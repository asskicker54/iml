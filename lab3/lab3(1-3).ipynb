{
 "cells": [
  {
   "cell_type": "code",
   "execution_count": 2,
   "metadata": {},
   "outputs": [],
   "source": [
    "import pandas as pd\n",
    "import numpy as np"
   ]
  },
  {
   "cell_type": "markdown",
   "metadata": {},
   "source": [
    "Задание 1"
   ]
  },
  {
   "cell_type": "markdown",
   "metadata": {},
   "source": [
    "1. Создайте объект Series, значениями которого являются целые числа от 1 до 5, а \n",
    "индексами символы 'a', 'b', 'c', 'd', 'e'.\n"
   ]
  },
  {
   "cell_type": "code",
   "execution_count": 2,
   "metadata": {},
   "outputs": [
    {
     "data": {
      "text/plain": [
       "a    1\n",
       "b    2\n",
       "c    3\n",
       "d    4\n",
       "e    5\n",
       "dtype: int64"
      ]
     },
     "execution_count": 2,
     "metadata": {},
     "output_type": "execute_result"
    }
   ],
   "source": [
    "s = pd.Series([1, 2, 3, 4, 5], index=['a', 'b', 'c', 'd', 'e'])\n",
    "s"
   ]
  },
  {
   "cell_type": "markdown",
   "metadata": {},
   "source": [
    "1. С помощью обращения по явному индексу получите значение 4."
   ]
  },
  {
   "cell_type": "code",
   "execution_count": 6,
   "metadata": {},
   "outputs": [
    {
     "data": {
      "text/plain": [
       "4"
      ]
     },
     "execution_count": 6,
     "metadata": {},
     "output_type": "execute_result"
    }
   ],
   "source": [
    "s['d']\n",
    "#s[3]"
   ]
  },
  {
   "cell_type": "markdown",
   "metadata": {},
   "source": [
    "2. С помощью обращения по неявному индексу получите значение 2."
   ]
  },
  {
   "cell_type": "code",
   "execution_count": 7,
   "metadata": {},
   "outputs": [
    {
     "data": {
      "text/plain": [
       "2"
      ]
     },
     "execution_count": 7,
     "metadata": {},
     "output_type": "execute_result"
    }
   ],
   "source": [
    "s[1]"
   ]
  },
  {
   "cell_type": "markdown",
   "metadata": {},
   "source": [
    "3. Добавьте в серию новый элемент."
   ]
  },
  {
   "cell_type": "code",
   "execution_count": 8,
   "metadata": {},
   "outputs": [],
   "source": [
    "s['f'] = 6"
   ]
  },
  {
   "cell_type": "markdown",
   "metadata": {},
   "source": [
    "4. Используя операцию среза, получите значения 3, 4, 5."
   ]
  },
  {
   "cell_type": "code",
   "execution_count": 12,
   "metadata": {},
   "outputs": [
    {
     "data": {
      "text/plain": [
       "array([3, 4, 5])"
      ]
     },
     "execution_count": 12,
     "metadata": {},
     "output_type": "execute_result"
    }
   ],
   "source": [
    "s['c':'e'].values"
   ]
  },
  {
   "cell_type": "markdown",
   "metadata": {},
   "source": [
    "5. Создайте объект DataFrame из списка [[1, 2], [5, 3], [3.7, 4.8]] с именами столбцов \n",
    "col1 и col2."
   ]
  },
  {
   "cell_type": "code",
   "execution_count": 14,
   "metadata": {},
   "outputs": [
    {
     "data": {
      "text/html": [
       "<div>\n",
       "<style scoped>\n",
       "    .dataframe tbody tr th:only-of-type {\n",
       "        vertical-align: middle;\n",
       "    }\n",
       "\n",
       "    .dataframe tbody tr th {\n",
       "        vertical-align: top;\n",
       "    }\n",
       "\n",
       "    .dataframe thead th {\n",
       "        text-align: right;\n",
       "    }\n",
       "</style>\n",
       "<table border=\"1\" class=\"dataframe\">\n",
       "  <thead>\n",
       "    <tr style=\"text-align: right;\">\n",
       "      <th></th>\n",
       "      <th>col1</th>\n",
       "      <th>col2</th>\n",
       "    </tr>\n",
       "  </thead>\n",
       "  <tbody>\n",
       "    <tr>\n",
       "      <th>0</th>\n",
       "      <td>1.0</td>\n",
       "      <td>2.0</td>\n",
       "    </tr>\n",
       "    <tr>\n",
       "      <th>1</th>\n",
       "      <td>5.0</td>\n",
       "      <td>3.0</td>\n",
       "    </tr>\n",
       "    <tr>\n",
       "      <th>2</th>\n",
       "      <td>3.7</td>\n",
       "      <td>4.8</td>\n",
       "    </tr>\n",
       "  </tbody>\n",
       "</table>\n",
       "</div>"
      ],
      "text/plain": [
       "   col1  col2\n",
       "0   1.0   2.0\n",
       "1   5.0   3.0\n",
       "2   3.7   4.8"
      ]
     },
     "execution_count": 14,
     "metadata": {},
     "output_type": "execute_result"
    }
   ],
   "source": [
    "df = pd.DataFrame([[1, 2], [5, 3], [3.7, 4.8]], columns=['col1', 'col2'])\n",
    "df"
   ]
  },
  {
   "cell_type": "markdown",
   "metadata": {},
   "source": [
    "6. Используя операцию индексации, получите элемент 3.7."
   ]
  },
  {
   "cell_type": "code",
   "execution_count": 16,
   "metadata": {},
   "outputs": [
    {
     "data": {
      "text/plain": [
       "3.7"
      ]
     },
     "execution_count": 16,
     "metadata": {},
     "output_type": "execute_result"
    }
   ],
   "source": [
    "df['col1'][2]"
   ]
  },
  {
   "cell_type": "markdown",
   "metadata": {},
   "source": [
    "7. Измените элемент 3 на 9."
   ]
  },
  {
   "cell_type": "code",
   "execution_count": 17,
   "metadata": {},
   "outputs": [
    {
     "data": {
      "text/html": [
       "<div>\n",
       "<style scoped>\n",
       "    .dataframe tbody tr th:only-of-type {\n",
       "        vertical-align: middle;\n",
       "    }\n",
       "\n",
       "    .dataframe tbody tr th {\n",
       "        vertical-align: top;\n",
       "    }\n",
       "\n",
       "    .dataframe thead th {\n",
       "        text-align: right;\n",
       "    }\n",
       "</style>\n",
       "<table border=\"1\" class=\"dataframe\">\n",
       "  <thead>\n",
       "    <tr style=\"text-align: right;\">\n",
       "      <th></th>\n",
       "      <th>col1</th>\n",
       "      <th>col2</th>\n",
       "    </tr>\n",
       "  </thead>\n",
       "  <tbody>\n",
       "    <tr>\n",
       "      <th>0</th>\n",
       "      <td>1.0</td>\n",
       "      <td>2.0</td>\n",
       "    </tr>\n",
       "    <tr>\n",
       "      <th>1</th>\n",
       "      <td>5.0</td>\n",
       "      <td>9.0</td>\n",
       "    </tr>\n",
       "    <tr>\n",
       "      <th>2</th>\n",
       "      <td>3.7</td>\n",
       "      <td>4.8</td>\n",
       "    </tr>\n",
       "  </tbody>\n",
       "</table>\n",
       "</div>"
      ],
      "text/plain": [
       "   col1  col2\n",
       "0   1.0   2.0\n",
       "1   5.0   9.0\n",
       "2   3.7   4.8"
      ]
     },
     "execution_count": 17,
     "metadata": {},
     "output_type": "execute_result"
    }
   ],
   "source": [
    "df['col2'][1] = 9\n",
    "df"
   ]
  },
  {
   "cell_type": "markdown",
   "metadata": {},
   "source": [
    "8. Используя операцию среза, получите строки с индексами 1 и 2."
   ]
  },
  {
   "cell_type": "code",
   "execution_count": 21,
   "metadata": {},
   "outputs": [
    {
     "data": {
      "text/html": [
       "<div>\n",
       "<style scoped>\n",
       "    .dataframe tbody tr th:only-of-type {\n",
       "        vertical-align: middle;\n",
       "    }\n",
       "\n",
       "    .dataframe tbody tr th {\n",
       "        vertical-align: top;\n",
       "    }\n",
       "\n",
       "    .dataframe thead th {\n",
       "        text-align: right;\n",
       "    }\n",
       "</style>\n",
       "<table border=\"1\" class=\"dataframe\">\n",
       "  <thead>\n",
       "    <tr style=\"text-align: right;\">\n",
       "      <th></th>\n",
       "      <th>col1</th>\n",
       "      <th>col2</th>\n",
       "    </tr>\n",
       "  </thead>\n",
       "  <tbody>\n",
       "    <tr>\n",
       "      <th>1</th>\n",
       "      <td>5.0</td>\n",
       "      <td>9.0</td>\n",
       "    </tr>\n",
       "    <tr>\n",
       "      <th>2</th>\n",
       "      <td>3.7</td>\n",
       "      <td>4.8</td>\n",
       "    </tr>\n",
       "  </tbody>\n",
       "</table>\n",
       "</div>"
      ],
      "text/plain": [
       "   col1  col2\n",
       "1   5.0   9.0\n",
       "2   3.7   4.8"
      ]
     },
     "execution_count": 21,
     "metadata": {},
     "output_type": "execute_result"
    }
   ],
   "source": [
    "df[1:3]"
   ]
  },
  {
   "cell_type": "markdown",
   "metadata": {},
   "source": [
    "9. Добавьте столбец col3, значения которого – результат поэлементного\n",
    "перемножения col1 и col2."
   ]
  },
  {
   "cell_type": "code",
   "execution_count": 22,
   "metadata": {},
   "outputs": [
    {
     "data": {
      "text/html": [
       "<div>\n",
       "<style scoped>\n",
       "    .dataframe tbody tr th:only-of-type {\n",
       "        vertical-align: middle;\n",
       "    }\n",
       "\n",
       "    .dataframe tbody tr th {\n",
       "        vertical-align: top;\n",
       "    }\n",
       "\n",
       "    .dataframe thead th {\n",
       "        text-align: right;\n",
       "    }\n",
       "</style>\n",
       "<table border=\"1\" class=\"dataframe\">\n",
       "  <thead>\n",
       "    <tr style=\"text-align: right;\">\n",
       "      <th></th>\n",
       "      <th>col1</th>\n",
       "      <th>col2</th>\n",
       "      <th>col3</th>\n",
       "    </tr>\n",
       "  </thead>\n",
       "  <tbody>\n",
       "    <tr>\n",
       "      <th>0</th>\n",
       "      <td>1.0</td>\n",
       "      <td>2.0</td>\n",
       "      <td>2.00</td>\n",
       "    </tr>\n",
       "    <tr>\n",
       "      <th>1</th>\n",
       "      <td>5.0</td>\n",
       "      <td>9.0</td>\n",
       "      <td>45.00</td>\n",
       "    </tr>\n",
       "    <tr>\n",
       "      <th>2</th>\n",
       "      <td>3.7</td>\n",
       "      <td>4.8</td>\n",
       "      <td>17.76</td>\n",
       "    </tr>\n",
       "  </tbody>\n",
       "</table>\n",
       "</div>"
      ],
      "text/plain": [
       "   col1  col2   col3\n",
       "0   1.0   2.0   2.00\n",
       "1   5.0   9.0  45.00\n",
       "2   3.7   4.8  17.76"
      ]
     },
     "execution_count": 22,
     "metadata": {},
     "output_type": "execute_result"
    }
   ],
   "source": [
    "df['col3'] = df['col1'] * df['col2']\n",
    "df"
   ]
  },
  {
   "cell_type": "markdown",
   "metadata": {},
   "source": [
    "Задание 2"
   ]
  },
  {
   "cell_type": "code",
   "execution_count": 23,
   "metadata": {},
   "outputs": [],
   "source": [
    "data = [[\"Вжик\", \"Zipper the Fly\", \"fly\", \"0.7\"],\n",
    "[\"Гайка\", \"Gadget Hackwrench\", \"mouse\", None],\n",
    "[\"Дейл\", \"Dale\", \"chipmunk\", \"1\"],\n",
    "[\"Рокфор\", \"Monterey Jack\", \"mouse\", \"0.8\"],\n",
    "[\"Чип\", \"Chip\", \"chipmunk\", \"0.2\"]]"
   ]
  },
  {
   "cell_type": "markdown",
   "metadata": {},
   "source": [
    "1. На основе этого списка создайте датафрейм df так, чтобы каждому показателю \n",
    "(ru_name, en_name, class, cheer) соответствовал один столбец датафрейма. \n",
    "Проверьте, что последний столбец является числовым. Если нет, приведите его к \n",
    "типу float.\n"
   ]
  },
  {
   "cell_type": "code",
   "execution_count": 44,
   "metadata": {},
   "outputs": [
    {
     "data": {
      "text/plain": [
       "ru_name     object\n",
       "en_name     object\n",
       "class       object\n",
       "cheer      float64\n",
       "dtype: object"
      ]
     },
     "execution_count": 44,
     "metadata": {},
     "output_type": "execute_result"
    }
   ],
   "source": [
    "df = pd.DataFrame(data, columns=['ru_name', 'en_name', 'class', 'cheer'])\n",
    "df.cheer = pd.to_numeric(df.cheer)\n",
    "df.dtypes"
   ]
  },
  {
   "cell_type": "markdown",
   "metadata": {},
   "source": [
    "2. Выведите число строк датафрейма df.\n"
   ]
  },
  {
   "cell_type": "code",
   "execution_count": 49,
   "metadata": {},
   "outputs": [
    {
     "data": {
      "text/plain": [
       "5"
      ]
     },
     "execution_count": 49,
     "metadata": {},
     "output_type": "execute_result"
    }
   ],
   "source": [
    "len(df)\n",
    "df.shape[0]\n",
    "len(df.index)"
   ]
  },
  {
   "cell_type": "markdown",
   "metadata": {},
   "source": [
    "3. Выведите число заполненных (не NaN) ячеек в последнем столбце"
   ]
  },
  {
   "cell_type": "code",
   "execution_count": 53,
   "metadata": {},
   "outputs": [
    {
     "data": {
      "text/plain": [
       "4"
      ]
     },
     "execution_count": 53,
     "metadata": {},
     "output_type": "execute_result"
    }
   ],
   "source": [
    "len(df) - df.cheer.isnull().sum()"
   ]
  },
  {
   "cell_type": "markdown",
   "metadata": {},
   "source": [
    "4. Выведите значение в ячейке, которая находится на пересечении третьей строки и \n",
    "второго столбца."
   ]
  },
  {
   "cell_type": "code",
   "execution_count": 73,
   "metadata": {},
   "outputs": [
    {
     "data": {
      "text/plain": [
       "'Dale'"
      ]
     },
     "execution_count": 73,
     "metadata": {},
     "output_type": "execute_result"
    }
   ],
   "source": [
    "df.loc[2][1]"
   ]
  },
  {
   "cell_type": "markdown",
   "metadata": {},
   "source": [
    "5. Сохраните в переменную df1 строки датафрейма df со второй по четвертую \n",
    "включительно и столбцы с первого по третий включительно. Продемонстрируйте \n",
    "содержимое df1."
   ]
  },
  {
   "cell_type": "code",
   "execution_count": 68,
   "metadata": {},
   "outputs": [
    {
     "data": {
      "text/html": [
       "<div>\n",
       "<style scoped>\n",
       "    .dataframe tbody tr th:only-of-type {\n",
       "        vertical-align: middle;\n",
       "    }\n",
       "\n",
       "    .dataframe tbody tr th {\n",
       "        vertical-align: top;\n",
       "    }\n",
       "\n",
       "    .dataframe thead th {\n",
       "        text-align: right;\n",
       "    }\n",
       "</style>\n",
       "<table border=\"1\" class=\"dataframe\">\n",
       "  <thead>\n",
       "    <tr style=\"text-align: right;\">\n",
       "      <th></th>\n",
       "      <th>ru_name</th>\n",
       "      <th>en_name</th>\n",
       "      <th>class</th>\n",
       "    </tr>\n",
       "  </thead>\n",
       "  <tbody>\n",
       "    <tr>\n",
       "      <th>2</th>\n",
       "      <td>Дейл</td>\n",
       "      <td>Dale</td>\n",
       "      <td>chipmunk</td>\n",
       "    </tr>\n",
       "    <tr>\n",
       "      <th>3</th>\n",
       "      <td>Рокфор</td>\n",
       "      <td>Monterey Jack</td>\n",
       "      <td>mouse</td>\n",
       "    </tr>\n",
       "    <tr>\n",
       "      <th>4</th>\n",
       "      <td>Чип</td>\n",
       "      <td>Chip</td>\n",
       "      <td>chipmunk</td>\n",
       "    </tr>\n",
       "  </tbody>\n",
       "</table>\n",
       "</div>"
      ],
      "text/plain": [
       "  ru_name        en_name     class\n",
       "2    Дейл           Dale  chipmunk\n",
       "3  Рокфор  Monterey Jack     mouse\n",
       "4     Чип           Chip  chipmunk"
      ]
     },
     "execution_count": 68,
     "metadata": {},
     "output_type": "execute_result"
    }
   ],
   "source": [
    "df1 = df.loc[2:4, 'ru_name':'class']\n",
    "df1"
   ]
  },
  {
   "cell_type": "markdown",
   "metadata": {},
   "source": [
    "6. Присвойте столбцам датафрейма df следующие названия: ru_name, en_name, class, \n",
    "cheer.\n"
   ]
  },
  {
   "cell_type": "markdown",
   "metadata": {},
   "source": [
    "7. Добавьте в датафрейм df столбец logcheer, который содержит логарифмированные \n",
    "значения cheer (если в cheer встречается NaN, то и в logcheer тоже)."
   ]
  },
  {
   "cell_type": "code",
   "execution_count": 76,
   "metadata": {},
   "outputs": [
    {
     "data": {
      "text/html": [
       "<div>\n",
       "<style scoped>\n",
       "    .dataframe tbody tr th:only-of-type {\n",
       "        vertical-align: middle;\n",
       "    }\n",
       "\n",
       "    .dataframe tbody tr th {\n",
       "        vertical-align: top;\n",
       "    }\n",
       "\n",
       "    .dataframe thead th {\n",
       "        text-align: right;\n",
       "    }\n",
       "</style>\n",
       "<table border=\"1\" class=\"dataframe\">\n",
       "  <thead>\n",
       "    <tr style=\"text-align: right;\">\n",
       "      <th></th>\n",
       "      <th>ru_name</th>\n",
       "      <th>en_name</th>\n",
       "      <th>class</th>\n",
       "      <th>cheer</th>\n",
       "      <th>logcheer</th>\n",
       "    </tr>\n",
       "  </thead>\n",
       "  <tbody>\n",
       "    <tr>\n",
       "      <th>0</th>\n",
       "      <td>Вжик</td>\n",
       "      <td>Zipper the Fly</td>\n",
       "      <td>fly</td>\n",
       "      <td>0.7</td>\n",
       "      <td>-0.356675</td>\n",
       "    </tr>\n",
       "    <tr>\n",
       "      <th>1</th>\n",
       "      <td>Гайка</td>\n",
       "      <td>Gadget Hackwrench</td>\n",
       "      <td>mouse</td>\n",
       "      <td>NaN</td>\n",
       "      <td>NaN</td>\n",
       "    </tr>\n",
       "    <tr>\n",
       "      <th>2</th>\n",
       "      <td>Дейл</td>\n",
       "      <td>Dale</td>\n",
       "      <td>chipmunk</td>\n",
       "      <td>1.0</td>\n",
       "      <td>0.000000</td>\n",
       "    </tr>\n",
       "    <tr>\n",
       "      <th>3</th>\n",
       "      <td>Рокфор</td>\n",
       "      <td>Monterey Jack</td>\n",
       "      <td>mouse</td>\n",
       "      <td>0.8</td>\n",
       "      <td>-0.223144</td>\n",
       "    </tr>\n",
       "    <tr>\n",
       "      <th>4</th>\n",
       "      <td>Чип</td>\n",
       "      <td>Chip</td>\n",
       "      <td>chipmunk</td>\n",
       "      <td>0.2</td>\n",
       "      <td>-1.609438</td>\n",
       "    </tr>\n",
       "  </tbody>\n",
       "</table>\n",
       "</div>"
      ],
      "text/plain": [
       "  ru_name            en_name     class  cheer  logcheer\n",
       "0    Вжик     Zipper the Fly       fly    0.7 -0.356675\n",
       "1   Гайка  Gadget Hackwrench     mouse    NaN       NaN\n",
       "2    Дейл               Dale  chipmunk    1.0  0.000000\n",
       "3  Рокфор      Monterey Jack     mouse    0.8 -0.223144\n",
       "4     Чип               Chip  chipmunk    0.2 -1.609438"
      ]
     },
     "execution_count": 76,
     "metadata": {},
     "output_type": "execute_result"
    }
   ],
   "source": [
    "df['logcheer'] = np.log(df.cheer)\n",
    "df"
   ]
  },
  {
   "cell_type": "markdown",
   "metadata": {},
   "source": [
    "8. Сохраните массив уникальных значений столбца class в переменную x, а \n",
    "соответствующие им частоты (сколько раз значение встречается в столбце) — в \n",
    "переменную y. Используя полученные x и y, постройте столбиковую диаграмму, \n",
    "barplot, для class. Добавьте заголовок и подписи к осям.\n"
   ]
  },
  {
   "cell_type": "code",
   "execution_count": 94,
   "metadata": {},
   "outputs": [
    {
     "data": {
      "text/plain": [
       "Text(0, 0.5, 'Frequency')"
      ]
     },
     "execution_count": 94,
     "metadata": {},
     "output_type": "execute_result"
    },
    {
     "data": {
      "image/png": "[encoded data removed]",
      "text/plain": [
       "<Figure size 432x288 with 1 Axes>"
      ]
     },
     "metadata": {
      "needs_background": "light"
     },
     "output_type": "display_data"
    }
   ],
   "source": [
    "import matplotlib.pyplot as plt\n",
    "s = df['class'].value_counts()\n",
    "x = s.keys()\n",
    "y = s.values\n",
    "plt.bar(x, y)\n",
    "plt.title('Class')\n",
    "plt.xlabel('Class values')\n",
    "plt.ylabel('Frequency')\n"
   ]
  },
  {
   "cell_type": "markdown",
   "metadata": {},
   "source": [
    "Задание 3"
   ]
  },
  {
   "cell_type": "markdown",
   "metadata": {},
   "source": [
    "Загрузите случайную выборку из этого набора и далее работайте с ней"
   ]
  },
  {
   "cell_type": "code",
   "execution_count": 3,
   "metadata": {},
   "outputs": [
    {
     "data": {
      "text/html": [
       "<div>\n",
       "<style scoped>\n",
       "    .dataframe tbody tr th:only-of-type {\n",
       "        vertical-align: middle;\n",
       "    }\n",
       "\n",
       "    .dataframe tbody tr th {\n",
       "        vertical-align: top;\n",
       "    }\n",
       "\n",
       "    .dataframe thead th {\n",
       "        text-align: right;\n",
       "    }\n",
       "</style>\n",
       "<table border=\"1\" class=\"dataframe\">\n",
       "  <thead>\n",
       "    <tr style=\"text-align: right;\">\n",
       "      <th></th>\n",
       "      <th>Unnamed: 0</th>\n",
       "      <th>DR Number</th>\n",
       "      <th>Date Reported</th>\n",
       "      <th>Date Occurred</th>\n",
       "      <th>Time Occurred</th>\n",
       "      <th>Area ID</th>\n",
       "      <th>Area Name</th>\n",
       "      <th>Reporting District</th>\n",
       "      <th>Crime Code</th>\n",
       "      <th>Crime Code Description</th>\n",
       "      <th>...</th>\n",
       "      <th>Weapon Description</th>\n",
       "      <th>Status Code</th>\n",
       "      <th>Status Description</th>\n",
       "      <th>Crime Code 1</th>\n",
       "      <th>Crime Code 2</th>\n",
       "      <th>Crime Code 3</th>\n",
       "      <th>Crime Code 4</th>\n",
       "      <th>Address</th>\n",
       "      <th>Cross Street</th>\n",
       "      <th>Location</th>\n",
       "    </tr>\n",
       "  </thead>\n",
       "  <tbody>\n",
       "    <tr>\n",
       "      <th>0</th>\n",
       "      <td>246798</td>\n",
       "      <td>100509940</td>\n",
       "      <td>2010-04-25</td>\n",
       "      <td>2010-04-25</td>\n",
       "      <td>1630</td>\n",
       "      <td>5</td>\n",
       "      <td>Harbor</td>\n",
       "      <td>529</td>\n",
       "      <td>740</td>\n",
       "      <td>VANDALISM - FELONY ($400 &amp; OVER, ALL CHURCH VA...</td>\n",
       "      <td>...</td>\n",
       "      <td>UNKNOWN WEAPON/OTHER WEAPON</td>\n",
       "      <td>IC</td>\n",
       "      <td>Invest Cont</td>\n",
       "      <td>740.0</td>\n",
       "      <td>NaN</td>\n",
       "      <td>NaN</td>\n",
       "      <td>NaN</td>\n",
       "      <td>CAL YACHT</td>\n",
       "      <td>MARINA SLIP D17</td>\n",
       "      <td>(33.7753, -118.2456)</td>\n",
       "    </tr>\n",
       "    <tr>\n",
       "      <th>1</th>\n",
       "      <td>1179557</td>\n",
       "      <td>151917155</td>\n",
       "      <td>2015-08-27</td>\n",
       "      <td>2015-08-27</td>\n",
       "      <td>430</td>\n",
       "      <td>19</td>\n",
       "      <td>Mission</td>\n",
       "      <td>1917</td>\n",
       "      <td>626</td>\n",
       "      <td>INTIMATE PARTNER - SIMPLE ASSAULT</td>\n",
       "      <td>...</td>\n",
       "      <td>STRONG-ARM (HANDS, FIST, FEET OR BODILY FORCE)</td>\n",
       "      <td>AO</td>\n",
       "      <td>Adult Other</td>\n",
       "      <td>626.0</td>\n",
       "      <td>NaN</td>\n",
       "      <td>NaN</td>\n",
       "      <td>NaN</td>\n",
       "      <td>14000    ASTORIA                      ST</td>\n",
       "      <td>NaN</td>\n",
       "      <td>(34.312, -118.4383)</td>\n",
       "    </tr>\n",
       "    <tr>\n",
       "      <th>2</th>\n",
       "      <td>1527668</td>\n",
       "      <td>172008833</td>\n",
       "      <td>2017-04-04</td>\n",
       "      <td>2017-04-03</td>\n",
       "      <td>1000</td>\n",
       "      <td>20</td>\n",
       "      <td>Olympic</td>\n",
       "      <td>2021</td>\n",
       "      <td>310</td>\n",
       "      <td>BURGLARY</td>\n",
       "      <td>...</td>\n",
       "      <td>NaN</td>\n",
       "      <td>IC</td>\n",
       "      <td>Invest Cont</td>\n",
       "      <td>310.0</td>\n",
       "      <td>NaN</td>\n",
       "      <td>NaN</td>\n",
       "      <td>NaN</td>\n",
       "      <td>500    LORRAINE                     BL</td>\n",
       "      <td>NaN</td>\n",
       "      <td>(34.0653, -118.32)</td>\n",
       "    </tr>\n",
       "    <tr>\n",
       "      <th>3</th>\n",
       "      <td>94687</td>\n",
       "      <td>101117037</td>\n",
       "      <td>2010-08-03</td>\n",
       "      <td>2010-08-02</td>\n",
       "      <td>2120</td>\n",
       "      <td>11</td>\n",
       "      <td>Northeast</td>\n",
       "      <td>1107</td>\n",
       "      <td>624</td>\n",
       "      <td>BATTERY - SIMPLE ASSAULT</td>\n",
       "      <td>...</td>\n",
       "      <td>STRONG-ARM (HANDS, FIST, FEET OR BODILY FORCE)</td>\n",
       "      <td>IC</td>\n",
       "      <td>Invest Cont</td>\n",
       "      <td>624.0</td>\n",
       "      <td>NaN</td>\n",
       "      <td>NaN</td>\n",
       "      <td>NaN</td>\n",
       "      <td>1400    HEPNER                       AV</td>\n",
       "      <td>NaN</td>\n",
       "      <td>(34.1318, -118.1957)</td>\n",
       "    </tr>\n",
       "    <tr>\n",
       "      <th>4</th>\n",
       "      <td>1376548</td>\n",
       "      <td>161711262</td>\n",
       "      <td>2016-06-02</td>\n",
       "      <td>2016-06-02</td>\n",
       "      <td>1240</td>\n",
       "      <td>17</td>\n",
       "      <td>Devonshire</td>\n",
       "      <td>1764</td>\n",
       "      <td>210</td>\n",
       "      <td>ROBBERY</td>\n",
       "      <td>...</td>\n",
       "      <td>STUN GUN</td>\n",
       "      <td>IC</td>\n",
       "      <td>Invest Cont</td>\n",
       "      <td>210.0</td>\n",
       "      <td>NaN</td>\n",
       "      <td>NaN</td>\n",
       "      <td>NaN</td>\n",
       "      <td>9300    TAMPA                        AV</td>\n",
       "      <td>NaN</td>\n",
       "      <td>(34.244, -118.5583)</td>\n",
       "    </tr>\n",
       "  </tbody>\n",
       "</table>\n",
       "<p>5 rows × 27 columns</p>\n",
       "</div>"
      ],
      "text/plain": [
       "   Unnamed: 0  DR Number Date Reported Date Occurred  Time Occurred  Area ID  \\\n",
       "0      246798  100509940    2010-04-25    2010-04-25           1630        5   \n",
       "1     1179557  151917155    2015-08-27    2015-08-27            430       19   \n",
       "2     1527668  172008833    2017-04-04    2017-04-03           1000       20   \n",
       "3       94687  101117037    2010-08-03    2010-08-02           2120       11   \n",
       "4     1376548  161711262    2016-06-02    2016-06-02           1240       17   \n",
       "\n",
       "    Area Name  Reporting District  Crime Code  \\\n",
       "0      Harbor                 529         740   \n",
       "1     Mission                1917         626   \n",
       "2     Olympic                2021         310   \n",
       "3   Northeast                1107         624   \n",
       "4  Devonshire                1764         210   \n",
       "\n",
       "                              Crime Code Description  ...  \\\n",
       "0  VANDALISM - FELONY ($400 & OVER, ALL CHURCH VA...  ...   \n",
       "1                  INTIMATE PARTNER - SIMPLE ASSAULT  ...   \n",
       "2                                           BURGLARY  ...   \n",
       "3                           BATTERY - SIMPLE ASSAULT  ...   \n",
       "4                                            ROBBERY  ...   \n",
       "\n",
       "                               Weapon Description  Status Code  \\\n",
       "0                     UNKNOWN WEAPON/OTHER WEAPON           IC   \n",
       "1  STRONG-ARM (HANDS, FIST, FEET OR BODILY FORCE)           AO   \n",
       "2                                             NaN           IC   \n",
       "3  STRONG-ARM (HANDS, FIST, FEET OR BODILY FORCE)           IC   \n",
       "4                                        STUN GUN           IC   \n",
       "\n",
       "  Status Description Crime Code 1  Crime Code 2 Crime Code 3  Crime Code 4  \\\n",
       "0        Invest Cont        740.0           NaN          NaN           NaN   \n",
       "1        Adult Other        626.0           NaN          NaN           NaN   \n",
       "2        Invest Cont        310.0           NaN          NaN           NaN   \n",
       "3        Invest Cont        624.0           NaN          NaN           NaN   \n",
       "4        Invest Cont        210.0           NaN          NaN           NaN   \n",
       "\n",
       "                                    Address     Cross Street  \\\n",
       "0                                 CAL YACHT  MARINA SLIP D17   \n",
       "1  14000    ASTORIA                      ST              NaN   \n",
       "2    500    LORRAINE                     BL              NaN   \n",
       "3   1400    HEPNER                       AV              NaN   \n",
       "4   9300    TAMPA                        AV              NaN   \n",
       "\n",
       "              Location   \n",
       "0  (33.7753, -118.2456)  \n",
       "1   (34.312, -118.4383)  \n",
       "2    (34.0653, -118.32)  \n",
       "3  (34.1318, -118.1957)  \n",
       "4   (34.244, -118.5583)  \n",
       "\n",
       "[5 rows x 27 columns]"
      ]
     },
     "execution_count": 3,
     "metadata": {},
     "output_type": "execute_result"
    }
   ],
   "source": [
    "df = pd.read_csv('./data/la-crimes-sample.csv')\n",
    "df.head()"
   ]
  },
  {
   "cell_type": "markdown",
   "metadata": {},
   "source": [
    "2. Сколько строк и столбцов в таблице?\n",
    "\n",
    "3960 строк, 27 столбцов"
   ]
  },
  {
   "cell_type": "code",
   "execution_count": 7,
   "metadata": {},
   "outputs": [
    {
     "name": "stdout",
     "output_type": "stream",
     "text": [
      "<class 'pandas.core.frame.DataFrame'>\n",
      "RangeIndex: 39608 entries, 0 to 39607\n",
      "Data columns (total 27 columns):\n",
      " #   Column                  Non-Null Count  Dtype  \n",
      "---  ------                  --------------  -----  \n",
      " 0   Unnamed: 0              39608 non-null  int64  \n",
      " 1   DR Number               39608 non-null  int64  \n",
      " 2   Date Reported           39608 non-null  object \n",
      " 3   Date Occurred           39608 non-null  object \n",
      " 4   Time Occurred           39608 non-null  int64  \n",
      " 5   Area ID                 39608 non-null  int64  \n",
      " 6   Area Name               39608 non-null  object \n",
      " 7   Reporting District      39608 non-null  int64  \n",
      " 8   Crime Code              39608 non-null  int64  \n",
      " 9   Crime Code Description  39601 non-null  object \n",
      " 10  MO Codes                35317 non-null  object \n",
      " 11  Victim Age              36388 non-null  float64\n",
      " 12  Victim Sex              35977 non-null  object \n",
      " 13  Victim Descent          35976 non-null  object \n",
      " 14  Premise Code            39605 non-null  float64\n",
      " 15  Premise Description     39536 non-null  object \n",
      " 16  Weapon Used Code        13078 non-null  float64\n",
      " 17  Weapon Description      13078 non-null  object \n",
      " 18  Status Code             39608 non-null  object \n",
      " 19  Status Description      39608 non-null  object \n",
      " 20  Crime Code 1            39608 non-null  float64\n",
      " 21  Crime Code 2            2483 non-null   float64\n",
      " 22  Crime Code 3            50 non-null     float64\n",
      " 23  Crime Code 4            2 non-null      float64\n",
      " 24  Address                 39608 non-null  object \n",
      " 25  Cross Street            6630 non-null   object \n",
      " 26  Location                39607 non-null  object \n",
      "dtypes: float64(7), int64(6), object(14)\n",
      "memory usage: 8.2+ MB\n"
     ]
    }
   ],
   "source": [
    "df.info()"
   ]
  },
  {
   "cell_type": "markdown",
   "metadata": {},
   "source": [
    "3. Каковы названия столбцов? Какие типы данных у столбцов?\n",
    "\n",
    "Типы данных: object, int64, float64"
   ]
  },
  {
   "cell_type": "code",
   "execution_count": 12,
   "metadata": {},
   "outputs": [
    {
     "data": {
      "text/plain": [
       "Index(['Unnamed: 0', 'DR Number', 'Date Reported', 'Date Occurred',\n",
       "       'Time Occurred', 'Area ID', 'Area Name', 'Reporting District',\n",
       "       'Crime Code', 'Crime Code Description', 'MO Codes', 'Victim Age',\n",
       "       'Victim Sex', 'Victim Descent', 'Premise Code', 'Premise Description',\n",
       "       'Weapon Used Code', 'Weapon Description', 'Status Code',\n",
       "       'Status Description', 'Crime Code 1', 'Crime Code 2', 'Crime Code 3',\n",
       "       'Crime Code 4', 'Address', 'Cross Street', 'Location '],\n",
       "      dtype='object')"
      ]
     },
     "execution_count": 12,
     "metadata": {},
     "output_type": "execute_result"
    }
   ],
   "source": [
    "df.columns"
   ]
  },
  {
   "cell_type": "markdown",
   "metadata": {},
   "source": [
    "4. Сколько в каждом из них уникальных значений?"
   ]
  },
  {
   "cell_type": "code",
   "execution_count": 18,
   "metadata": {},
   "outputs": [
    {
     "name": "stdout",
     "output_type": "stream",
     "text": [
      "Unnamed: 0 ---\t 39608\n",
      "DR Number ---\t 39608\n",
      "Date Reported ---\t 2809\n",
      "Date Occurred ---\t 2808\n",
      "Time Occurred ---\t 900\n",
      "Area ID ---\t 21\n",
      "Area Name ---\t 21\n",
      "Reporting District ---\t 1135\n",
      "Crime Code ---\t 115\n",
      "Crime Code Description ---\t 114\n",
      "MO Codes ---\t 14020\n",
      "Victim Age ---\t 91\n",
      "Victim Sex ---\t 5\n",
      "Victim Descent ---\t 18\n",
      "Premise Code ---\t 190\n",
      "Premise Description ---\t 171\n",
      "Weapon Used Code ---\t 66\n",
      "Weapon Description ---\t 66\n",
      "Status Code ---\t 6\n",
      "Status Description ---\t 6\n",
      "Crime Code 1 ---\t 116\n",
      "Crime Code 2 ---\t 68\n",
      "Crime Code 3 ---\t 10\n",
      "Crime Code 4 ---\t 3\n",
      "Address ---\t 19762\n",
      "Cross Street ---\t 2065\n",
      "Location  ---\t 19049\n"
     ]
    }
   ],
   "source": [
    "for col in df.columns:\n",
    "    print(col, '---\\t', len(df[col].unique()))"
   ]
  },
  {
   "cell_type": "markdown",
   "metadata": {},
   "source": [
    "5. Сколько пропущенных значений?\n"
   ]
  },
  {
   "cell_type": "code",
   "execution_count": 21,
   "metadata": {},
   "outputs": [
    {
     "data": {
      "text/plain": [
       "217184"
      ]
     },
     "execution_count": 21,
     "metadata": {},
     "output_type": "execute_result"
    }
   ],
   "source": [
    "df.isnull().sum().sum()"
   ]
  },
  {
   "cell_type": "markdown",
   "metadata": {},
   "source": [
    "6. Верно ли, что женщины чаще оказываются жертвами по сравнению с мужчинами?"
   ]
  },
  {
   "cell_type": "code",
   "execution_count": 26,
   "metadata": {},
   "outputs": [
    {
     "name": "stdout",
     "output_type": "stream",
     "text": [
      "False\n"
     ]
    }
   ],
   "source": [
    "print(df['Victim Sex'].value_counts()['M'] < df[\"Victim Sex\"].value_counts()['F'])"
   ]
  },
  {
   "cell_type": "markdown",
   "metadata": {},
   "source": [
    "7. Определите 10 самых распространенных преступлений в Лос-Анджелесе. \n",
    "Постройте график."
   ]
  },
  {
   "cell_type": "code",
   "execution_count": 6,
   "metadata": {},
   "outputs": [
    {
     "name": "stdout",
     "output_type": "stream",
     "text": [
      "BATTERY - SIMPLE ASSAULT                                        3581\n",
      "VEHICLE - STOLEN                                                3048\n",
      "BURGLARY FROM VEHICLE                                           3038\n",
      "BURGLARY                                                        2938\n",
      "THEFT PLAIN - PETTY ($950 & UNDER)                              2866\n",
      "THEFT OF IDENTITY                                               2522\n",
      "INTIMATE PARTNER - SIMPLE ASSAULT                               2147\n",
      "VANDALISM - FELONY ($400 & OVER, ALL CHURCH VANDALISMS) 0114    2027\n",
      "VANDALISM - MISDEAMEANOR ($399 OR UNDER)                        1759\n",
      "ASSAULT WITH DEADLY WEAPON, AGGRAVATED ASSAULT                  1656\n",
      "Name: Crime Code Description, dtype: int64\n"
     ]
    }
   ],
   "source": [
    "crimes = df['Crime Code Description'].value_counts()\n",
    "print(crimes[:10])"
   ]
  },
  {
   "cell_type": "code",
   "execution_count": 7,
   "metadata": {},
   "outputs": [
    {
     "data": {
      "text/plain": [
       "<AxesSubplot:>"
      ]
     },
     "execution_count": 7,
     "metadata": {},
     "output_type": "execute_result"
    },
    {
     "data": {
      "image/png": "[encoded data removed]",
      "text/plain": [
       "<Figure size 432x288 with 1 Axes>"
      ]
     },
     "metadata": {
      "needs_background": "light"
     },
     "output_type": "display_data"
    }
   ],
   "source": [
    "import seaborn as sb\n",
    "sb.histplot(x = crimes.values[:10], y=crimes.index[:10])"
   ]
  },
  {
   "cell_type": "markdown",
   "metadata": {},
   "source": [
    "8.От каких преступлений чаще страдают женщины, а от каких мужчины?"
   ]
  },
  {
   "cell_type": "code",
   "execution_count": 26,
   "metadata": {},
   "outputs": [
    {
     "name": "stdout",
     "output_type": "stream",
     "text": [
      "F:  BATTERY - SIMPLE ASSAULT\n",
      "M:  BATTERY - SIMPLE ASSAULT\n"
     ]
    }
   ],
   "source": [
    "f_count = df[df['Victim Sex'] == 'F']['Crime Code'].value_counts()\n",
    "m_count = df[df['Victim Sex'] == 'M']['Crime Code'].value_counts()\n",
    "print('F: ', df[df['Crime Code'] == f_count.index[0]]['Crime Code Description'].values[0])\n",
    "print('M: ', df[df['Crime Code'] == m_count.index[0]]['Crime Code Description'].values[0])"
   ]
  },
  {
   "cell_type": "markdown",
   "metadata": {},
   "source": [
    "9. Люди какого происхождения чаще всего подвергаются преступлениям?"
   ]
  },
  {
   "cell_type": "code",
   "execution_count": 51,
   "metadata": {},
   "outputs": [
    {
     "data": {
      "text/plain": [
       "H    13488\n",
       "Name: Victim Descent, dtype: int64"
      ]
     },
     "execution_count": 51,
     "metadata": {},
     "output_type": "execute_result"
    }
   ],
   "source": [
    "df['Victim Descent'].value_counts()[:1]"
   ]
  },
  {
   "cell_type": "markdown",
   "metadata": {},
   "source": [
    "10. Отсортируйте районы, по количеству преступлений. Постройте график, \n",
    "показывающий самые безопасный и опасный районы."
   ]
  },
  {
   "cell_type": "code",
   "execution_count": 10,
   "metadata": {},
   "outputs": [
    {
     "data": {
      "image/png": "[encoded data removed]",
      "text/plain": [
       "<Figure size 432x288 with 1 Axes>"
      ]
     },
     "metadata": {
      "needs_background": "light"
     },
     "output_type": "display_data"
    }
   ],
   "source": [
    "import matplotlib.pyplot as plt\n",
    "areas = df['Area Name'].value_counts()\n",
    "safe_name, safe_val = areas.index[-1], areas.values[-1]\n",
    "dang_name, dang_val = areas.index[0], areas.values[0]\n",
    "plt.bar([safe_name, dang_name], [safe_val, dang_val])\n",
    "plt.show()\n"
   ]
  }
 ],
 "metadata": {
  "kernelspec": {
   "display_name": "Python 3.8.10 64-bit",
   "language": "python",
   "name": "python3"
  },
  "language_info": {
   "codemirror_mode": {
    "name": "ipython",
    "version": 3
   },
   "file_extension": ".py",
   "mimetype": "text/x-python",
   "name": "python",
   "nbconvert_exporter": "python",
   "pygments_lexer": "ipython3",
   "version": "3.8.10"
  },
  "orig_nbformat": 4,
  "vscode": {
   "interpreter": {
    "hash": "916dbcbb3f70747c44a77c7bcd40155683ae19c65e1c03b4aa3499c5328201f1"
   }
  }
 },
 "nbformat": 4,
 "nbformat_minor": 2
}
