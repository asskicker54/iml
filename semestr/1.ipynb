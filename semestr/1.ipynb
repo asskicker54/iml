{
 "cells": [
  {
   "cell_type": "code",
   "execution_count": 332,
   "metadata": {},
   "outputs": [],
   "source": [
    "import pandas as pd\n",
    "import seaborn as sns"
   ]
  },
  {
   "attachments": {},
   "cell_type": "markdown",
   "metadata": {},
   "source": [
    "## 1. Проведите предварительный анализ и подготовку данных, обработайте пропущенные значения."
   ]
  },
  {
   "cell_type": "code",
   "execution_count": 333,
   "metadata": {},
   "outputs": [
    {
     "data": {
      "text/html": [
       "<div>\n",
       "<style scoped>\n",
       "    .dataframe tbody tr th:only-of-type {\n",
       "        vertical-align: middle;\n",
       "    }\n",
       "\n",
       "    .dataframe tbody tr th {\n",
       "        vertical-align: top;\n",
       "    }\n",
       "\n",
       "    .dataframe thead th {\n",
       "        text-align: right;\n",
       "    }\n",
       "</style>\n",
       "<table border=\"1\" class=\"dataframe\">\n",
       "  <thead>\n",
       "    <tr style=\"text-align: right;\">\n",
       "      <th></th>\n",
       "      <th>f1</th>\n",
       "      <th>f2</th>\n",
       "      <th>f3</th>\n",
       "      <th>f4</th>\n",
       "      <th>f5</th>\n",
       "      <th>f6</th>\n",
       "      <th>f7</th>\n",
       "      <th>target</th>\n",
       "    </tr>\n",
       "  </thead>\n",
       "  <tbody>\n",
       "    <tr>\n",
       "      <th>0</th>\n",
       "      <td>NaN</td>\n",
       "      <td>-0.773345</td>\n",
       "      <td>-0.002400</td>\n",
       "      <td>0.530888</td>\n",
       "      <td>-1.058400</td>\n",
       "      <td>-1.781132</td>\n",
       "      <td>0.189430</td>\n",
       "      <td>-92.221092</td>\n",
       "    </tr>\n",
       "    <tr>\n",
       "      <th>1</th>\n",
       "      <td>NaN</td>\n",
       "      <td>-0.886568</td>\n",
       "      <td>1.276297</td>\n",
       "      <td>0.665747</td>\n",
       "      <td>-0.378063</td>\n",
       "      <td>-0.658522</td>\n",
       "      <td>-0.945419</td>\n",
       "      <td>-26.926821</td>\n",
       "    </tr>\n",
       "    <tr>\n",
       "      <th>2</th>\n",
       "      <td>NaN</td>\n",
       "      <td>1.356491</td>\n",
       "      <td>0.034605</td>\n",
       "      <td>0.290838</td>\n",
       "      <td>0.310534</td>\n",
       "      <td>-1.067264</td>\n",
       "      <td>2.031287</td>\n",
       "      <td>-44.844748</td>\n",
       "    </tr>\n",
       "    <tr>\n",
       "      <th>3</th>\n",
       "      <td>NaN</td>\n",
       "      <td>-0.799755</td>\n",
       "      <td>0.257057</td>\n",
       "      <td>-0.563355</td>\n",
       "      <td>0.745641</td>\n",
       "      <td>0.869313</td>\n",
       "      <td>-0.403485</td>\n",
       "      <td>25.440314</td>\n",
       "    </tr>\n",
       "    <tr>\n",
       "      <th>4</th>\n",
       "      <td>NaN</td>\n",
       "      <td>-1.268300</td>\n",
       "      <td>0.003044</td>\n",
       "      <td>-0.270158</td>\n",
       "      <td>0.983069</td>\n",
       "      <td>0.523440</td>\n",
       "      <td>-0.497699</td>\n",
       "      <td>12.903885</td>\n",
       "    </tr>\n",
       "  </tbody>\n",
       "</table>\n",
       "</div>"
      ],
      "text/plain": [
       "   f1        f2        f3        f4        f5        f6        f7     target\n",
       "0 NaN -0.773345 -0.002400  0.530888 -1.058400 -1.781132  0.189430 -92.221092\n",
       "1 NaN -0.886568  1.276297  0.665747 -0.378063 -0.658522 -0.945419 -26.926821\n",
       "2 NaN  1.356491  0.034605  0.290838  0.310534 -1.067264  2.031287 -44.844748\n",
       "3 NaN -0.799755  0.257057 -0.563355  0.745641  0.869313 -0.403485  25.440314\n",
       "4 NaN -1.268300  0.003044 -0.270158  0.983069  0.523440 -0.497699  12.903885"
      ]
     },
     "execution_count": 333,
     "metadata": {},
     "output_type": "execute_result"
    }
   ],
   "source": [
    "df = pd.read_csv(\"./dataset_var1.csv\", sep=\";\", names=[\"f1\", \"f2\", \"f3\", \"f4\", \"f5\", \"f6\", \"f7\", \"target\"])\n",
    "df.head()"
   ]
  },
  {
   "cell_type": "code",
   "execution_count": 334,
   "metadata": {},
   "outputs": [
    {
     "name": "stdout",
     "output_type": "stream",
     "text": [
      "<class 'pandas.core.frame.DataFrame'>\n",
      "RangeIndex: 100 entries, 0 to 99\n",
      "Data columns (total 8 columns):\n",
      " #   Column  Non-Null Count  Dtype  \n",
      "---  ------  --------------  -----  \n",
      " 0   f1      30 non-null     float64\n",
      " 1   f2      100 non-null    float64\n",
      " 2   f3      95 non-null     float64\n",
      " 3   f4      100 non-null    float64\n",
      " 4   f5      100 non-null    float64\n",
      " 5   f6      100 non-null    float64\n",
      " 6   f7      100 non-null    float64\n",
      " 7   target  100 non-null    float64\n",
      "dtypes: float64(8)\n",
      "memory usage: 6.4 KB\n"
     ]
    }
   ],
   "source": [
    "df.info()"
   ]
  },
  {
   "cell_type": "code",
   "execution_count": 335,
   "metadata": {},
   "outputs": [
    {
     "data": {
      "text/plain": [
       "f1        70\n",
       "f2         0\n",
       "f3         5\n",
       "f4         0\n",
       "f5         0\n",
       "f6         0\n",
       "f7         0\n",
       "target     0\n",
       "dtype: int64"
      ]
     },
     "execution_count": 335,
     "metadata": {},
     "output_type": "execute_result"
    }
   ],
   "source": [
    "df.isna().sum()"
   ]
  },
  {
   "attachments": {},
   "cell_type": "markdown",
   "metadata": {},
   "source": [
    "Пропуски имеются у признаков f1 (70 пропусков) и f3 (5 пропусков).\n",
    "\n",
    "Значит, можно удалить столбец, отвечающий за признак f1, так как он содержит слишком большое количество пропоусков в данной выборке. Затем удалить 5 строк с пропусками, содержащимися в столбце признака f3."
   ]
  },
  {
   "cell_type": "code",
   "execution_count": 336,
   "metadata": {},
   "outputs": [],
   "source": [
    "df = df.drop(\"f1\", axis=1)"
   ]
  },
  {
   "cell_type": "code",
   "execution_count": 337,
   "metadata": {},
   "outputs": [],
   "source": [
    "df = df.dropna()"
   ]
  },
  {
   "cell_type": "code",
   "execution_count": 338,
   "metadata": {},
   "outputs": [
    {
     "data": {
      "text/plain": [
       "f2        0\n",
       "f3        0\n",
       "f4        0\n",
       "f5        0\n",
       "f6        0\n",
       "f7        0\n",
       "target    0\n",
       "dtype: int64"
      ]
     },
     "execution_count": 338,
     "metadata": {},
     "output_type": "execute_result"
    }
   ],
   "source": [
    "df.isna().sum()"
   ]
  },
  {
   "attachments": {},
   "cell_type": "markdown",
   "metadata": {},
   "source": [
    "## 2. Проведите статистический анализ, оцените корреляции между признаками, оцените возможные выбросы в данных, постройте поясняющие графики. Удалите из рассмотрения признаки, которые не влияют на целевой."
   ]
  },
  {
   "cell_type": "code",
   "execution_count": 339,
   "metadata": {},
   "outputs": [
    {
     "data": {
      "text/html": [
       "<div>\n",
       "<style scoped>\n",
       "    .dataframe tbody tr th:only-of-type {\n",
       "        vertical-align: middle;\n",
       "    }\n",
       "\n",
       "    .dataframe tbody tr th {\n",
       "        vertical-align: top;\n",
       "    }\n",
       "\n",
       "    .dataframe thead th {\n",
       "        text-align: right;\n",
       "    }\n",
       "</style>\n",
       "<table border=\"1\" class=\"dataframe\">\n",
       "  <thead>\n",
       "    <tr style=\"text-align: right;\">\n",
       "      <th></th>\n",
       "      <th>f2</th>\n",
       "      <th>f3</th>\n",
       "      <th>f4</th>\n",
       "      <th>f5</th>\n",
       "      <th>f6</th>\n",
       "      <th>f7</th>\n",
       "      <th>target</th>\n",
       "    </tr>\n",
       "  </thead>\n",
       "  <tbody>\n",
       "    <tr>\n",
       "      <th>count</th>\n",
       "      <td>95.000000</td>\n",
       "      <td>95.000000</td>\n",
       "      <td>95.000000</td>\n",
       "      <td>95.000000</td>\n",
       "      <td>95.000000</td>\n",
       "      <td>95.000000</td>\n",
       "      <td>95.000000</td>\n",
       "    </tr>\n",
       "    <tr>\n",
       "      <th>mean</th>\n",
       "      <td>0.009077</td>\n",
       "      <td>0.075745</td>\n",
       "      <td>-0.104527</td>\n",
       "      <td>-0.429516</td>\n",
       "      <td>0.057728</td>\n",
       "      <td>-0.033976</td>\n",
       "      <td>1.313663</td>\n",
       "    </tr>\n",
       "    <tr>\n",
       "      <th>std</th>\n",
       "      <td>0.978384</td>\n",
       "      <td>0.915116</td>\n",
       "      <td>1.119789</td>\n",
       "      <td>2.569870</td>\n",
       "      <td>1.045000</td>\n",
       "      <td>0.994065</td>\n",
       "      <td>55.358232</td>\n",
       "    </tr>\n",
       "    <tr>\n",
       "      <th>min</th>\n",
       "      <td>-2.790680</td>\n",
       "      <td>-2.493577</td>\n",
       "      <td>-2.849004</td>\n",
       "      <td>-13.695448</td>\n",
       "      <td>-2.023200</td>\n",
       "      <td>-2.854785</td>\n",
       "      <td>-118.843758</td>\n",
       "    </tr>\n",
       "    <tr>\n",
       "      <th>25%</th>\n",
       "      <td>-0.576756</td>\n",
       "      <td>-0.544945</td>\n",
       "      <td>-0.842316</td>\n",
       "      <td>-0.645654</td>\n",
       "      <td>-0.783461</td>\n",
       "      <td>-0.668729</td>\n",
       "      <td>-38.423600</td>\n",
       "    </tr>\n",
       "    <tr>\n",
       "      <th>50%</th>\n",
       "      <td>-0.005320</td>\n",
       "      <td>-0.002400</td>\n",
       "      <td>-0.165677</td>\n",
       "      <td>-0.023578</td>\n",
       "      <td>-0.126571</td>\n",
       "      <td>-0.052732</td>\n",
       "      <td>-2.371281</td>\n",
       "    </tr>\n",
       "    <tr>\n",
       "      <th>75%</th>\n",
       "      <td>0.625509</td>\n",
       "      <td>0.653803</td>\n",
       "      <td>0.590943</td>\n",
       "      <td>0.879546</td>\n",
       "      <td>0.869232</td>\n",
       "      <td>0.641029</td>\n",
       "      <td>40.775502</td>\n",
       "    </tr>\n",
       "    <tr>\n",
       "      <th>max</th>\n",
       "      <td>2.432896</td>\n",
       "      <td>2.387574</td>\n",
       "      <td>2.847169</td>\n",
       "      <td>2.295718</td>\n",
       "      <td>2.819094</td>\n",
       "      <td>2.357365</td>\n",
       "      <td>144.111188</td>\n",
       "    </tr>\n",
       "  </tbody>\n",
       "</table>\n",
       "</div>"
      ],
      "text/plain": [
       "              f2         f3         f4         f5         f6         f7  \\\n",
       "count  95.000000  95.000000  95.000000  95.000000  95.000000  95.000000   \n",
       "mean    0.009077   0.075745  -0.104527  -0.429516   0.057728  -0.033976   \n",
       "std     0.978384   0.915116   1.119789   2.569870   1.045000   0.994065   \n",
       "min    -2.790680  -2.493577  -2.849004 -13.695448  -2.023200  -2.854785   \n",
       "25%    -0.576756  -0.544945  -0.842316  -0.645654  -0.783461  -0.668729   \n",
       "50%    -0.005320  -0.002400  -0.165677  -0.023578  -0.126571  -0.052732   \n",
       "75%     0.625509   0.653803   0.590943   0.879546   0.869232   0.641029   \n",
       "max     2.432896   2.387574   2.847169   2.295718   2.819094   2.357365   \n",
       "\n",
       "           target  \n",
       "count   95.000000  \n",
       "mean     1.313663  \n",
       "std     55.358232  \n",
       "min   -118.843758  \n",
       "25%    -38.423600  \n",
       "50%     -2.371281  \n",
       "75%     40.775502  \n",
       "max    144.111188  "
      ]
     },
     "execution_count": 339,
     "metadata": {},
     "output_type": "execute_result"
    }
   ],
   "source": [
    "df.describe()"
   ]
  },
  {
   "cell_type": "code",
   "execution_count": 340,
   "metadata": {},
   "outputs": [
    {
     "data": {
      "text/html": [
       "<div>\n",
       "<style scoped>\n",
       "    .dataframe tbody tr th:only-of-type {\n",
       "        vertical-align: middle;\n",
       "    }\n",
       "\n",
       "    .dataframe tbody tr th {\n",
       "        vertical-align: top;\n",
       "    }\n",
       "\n",
       "    .dataframe thead th {\n",
       "        text-align: right;\n",
       "    }\n",
       "</style>\n",
       "<table border=\"1\" class=\"dataframe\">\n",
       "  <thead>\n",
       "    <tr style=\"text-align: right;\">\n",
       "      <th></th>\n",
       "      <th>f2</th>\n",
       "      <th>f3</th>\n",
       "      <th>f4</th>\n",
       "      <th>f5</th>\n",
       "      <th>f6</th>\n",
       "      <th>f7</th>\n",
       "      <th>target</th>\n",
       "    </tr>\n",
       "  </thead>\n",
       "  <tbody>\n",
       "    <tr>\n",
       "      <th>f2</th>\n",
       "      <td>1.000</td>\n",
       "      <td>-0.129</td>\n",
       "      <td>0.040</td>\n",
       "      <td>-0.044</td>\n",
       "      <td>0.076</td>\n",
       "      <td>0.176</td>\n",
       "      <td>0.220</td>\n",
       "    </tr>\n",
       "    <tr>\n",
       "      <th>f3</th>\n",
       "      <td>-0.129</td>\n",
       "      <td>1.000</td>\n",
       "      <td>-0.121</td>\n",
       "      <td>0.202</td>\n",
       "      <td>-0.027</td>\n",
       "      <td>-0.133</td>\n",
       "      <td>-0.075</td>\n",
       "    </tr>\n",
       "    <tr>\n",
       "      <th>f4</th>\n",
       "      <td>0.040</td>\n",
       "      <td>-0.121</td>\n",
       "      <td>1.000</td>\n",
       "      <td>-0.131</td>\n",
       "      <td>-0.044</td>\n",
       "      <td>-0.007</td>\n",
       "      <td>0.251</td>\n",
       "    </tr>\n",
       "    <tr>\n",
       "      <th>f5</th>\n",
       "      <td>-0.044</td>\n",
       "      <td>0.202</td>\n",
       "      <td>-0.131</td>\n",
       "      <td>1.000</td>\n",
       "      <td>-0.022</td>\n",
       "      <td>0.038</td>\n",
       "      <td>-0.048</td>\n",
       "    </tr>\n",
       "    <tr>\n",
       "      <th>f6</th>\n",
       "      <td>0.076</td>\n",
       "      <td>-0.027</td>\n",
       "      <td>-0.044</td>\n",
       "      <td>-0.022</td>\n",
       "      <td>1.000</td>\n",
       "      <td>0.050</td>\n",
       "      <td>0.945</td>\n",
       "    </tr>\n",
       "    <tr>\n",
       "      <th>f7</th>\n",
       "      <td>0.176</td>\n",
       "      <td>-0.133</td>\n",
       "      <td>-0.007</td>\n",
       "      <td>0.038</td>\n",
       "      <td>0.050</td>\n",
       "      <td>1.000</td>\n",
       "      <td>0.074</td>\n",
       "    </tr>\n",
       "    <tr>\n",
       "      <th>target</th>\n",
       "      <td>0.220</td>\n",
       "      <td>-0.075</td>\n",
       "      <td>0.251</td>\n",
       "      <td>-0.048</td>\n",
       "      <td>0.945</td>\n",
       "      <td>0.074</td>\n",
       "      <td>1.000</td>\n",
       "    </tr>\n",
       "  </tbody>\n",
       "</table>\n",
       "</div>"
      ],
      "text/plain": [
       "           f2     f3     f4     f5     f6     f7  target\n",
       "f2      1.000 -0.129  0.040 -0.044  0.076  0.176   0.220\n",
       "f3     -0.129  1.000 -0.121  0.202 -0.027 -0.133  -0.075\n",
       "f4      0.040 -0.121  1.000 -0.131 -0.044 -0.007   0.251\n",
       "f5     -0.044  0.202 -0.131  1.000 -0.022  0.038  -0.048\n",
       "f6      0.076 -0.027 -0.044 -0.022  1.000  0.050   0.945\n",
       "f7      0.176 -0.133 -0.007  0.038  0.050  1.000   0.074\n",
       "target  0.220 -0.075  0.251 -0.048  0.945  0.074   1.000"
      ]
     },
     "execution_count": 340,
     "metadata": {},
     "output_type": "execute_result"
    }
   ],
   "source": [
    "corr_matrix = df.corr().round(3)\n",
    "corr_matrix"
   ]
  },
  {
   "cell_type": "code",
   "execution_count": 341,
   "metadata": {},
   "outputs": [
    {
     "data": {
      "text/plain": [
       "<AxesSubplot: >"
      ]
     },
     "execution_count": 341,
     "metadata": {},
     "output_type": "execute_result"
    },
    {
     "data": {
      "image/png": "[encoded data removed]",
      "text/plain": [
       "<Figure size 640x480 with 2 Axes>"
      ]
     },
     "metadata": {},
     "output_type": "display_data"
    }
   ],
   "source": [
    "sns.heatmap(corr_matrix, annot=True)"
   ]
  },
  {
   "attachments": {},
   "cell_type": "markdown",
   "metadata": {},
   "source": [
    "Проанализировав корреляционную матрицу, можно сделать вывод, что признаки f3, f5 и f7 слабо коррелируют с целевой переменной, между собой эти признаки также слабо коррелируют => встает вопрос, удалять их из выборки или нет... Допускается, что совокупность этих признаков в итоге, может скрыто влиять на целевую переменную."
   ]
  },
  {
   "cell_type": "code",
   "execution_count": 342,
   "metadata": {},
   "outputs": [
    {
     "data": {
      "text/html": [
       "<div>\n",
       "<style scoped>\n",
       "    .dataframe tbody tr th:only-of-type {\n",
       "        vertical-align: middle;\n",
       "    }\n",
       "\n",
       "    .dataframe tbody tr th {\n",
       "        vertical-align: top;\n",
       "    }\n",
       "\n",
       "    .dataframe thead th {\n",
       "        text-align: right;\n",
       "    }\n",
       "</style>\n",
       "<table border=\"1\" class=\"dataframe\">\n",
       "  <thead>\n",
       "    <tr style=\"text-align: right;\">\n",
       "      <th></th>\n",
       "      <th>f2</th>\n",
       "      <th>f3</th>\n",
       "      <th>f4</th>\n",
       "      <th>f5</th>\n",
       "      <th>f6</th>\n",
       "      <th>f7</th>\n",
       "      <th>target</th>\n",
       "    </tr>\n",
       "  </thead>\n",
       "  <tbody>\n",
       "    <tr>\n",
       "      <th>0</th>\n",
       "      <td>-0.773345</td>\n",
       "      <td>-0.002400</td>\n",
       "      <td>0.530888</td>\n",
       "      <td>-1.058400</td>\n",
       "      <td>-1.781132</td>\n",
       "      <td>0.189430</td>\n",
       "      <td>-92.221092</td>\n",
       "    </tr>\n",
       "    <tr>\n",
       "      <th>1</th>\n",
       "      <td>-0.886568</td>\n",
       "      <td>1.276297</td>\n",
       "      <td>0.665747</td>\n",
       "      <td>-0.378063</td>\n",
       "      <td>-0.658522</td>\n",
       "      <td>-0.945419</td>\n",
       "      <td>-26.926821</td>\n",
       "    </tr>\n",
       "    <tr>\n",
       "      <th>2</th>\n",
       "      <td>1.356491</td>\n",
       "      <td>0.034605</td>\n",
       "      <td>0.290838</td>\n",
       "      <td>0.310534</td>\n",
       "      <td>-1.067264</td>\n",
       "      <td>2.031287</td>\n",
       "      <td>-44.844748</td>\n",
       "    </tr>\n",
       "    <tr>\n",
       "      <th>3</th>\n",
       "      <td>-0.799755</td>\n",
       "      <td>0.257057</td>\n",
       "      <td>-0.563355</td>\n",
       "      <td>0.745641</td>\n",
       "      <td>0.869313</td>\n",
       "      <td>-0.403485</td>\n",
       "      <td>25.440314</td>\n",
       "    </tr>\n",
       "    <tr>\n",
       "      <th>4</th>\n",
       "      <td>-1.268300</td>\n",
       "      <td>0.003044</td>\n",
       "      <td>-0.270158</td>\n",
       "      <td>0.983069</td>\n",
       "      <td>0.523440</td>\n",
       "      <td>-0.497699</td>\n",
       "      <td>12.903885</td>\n",
       "    </tr>\n",
       "    <tr>\n",
       "      <th>...</th>\n",
       "      <td>...</td>\n",
       "      <td>...</td>\n",
       "      <td>...</td>\n",
       "      <td>...</td>\n",
       "      <td>...</td>\n",
       "      <td>...</td>\n",
       "      <td>...</td>\n",
       "    </tr>\n",
       "    <tr>\n",
       "      <th>95</th>\n",
       "      <td>0.058529</td>\n",
       "      <td>-0.250057</td>\n",
       "      <td>-1.787525</td>\n",
       "      <td>0.688256</td>\n",
       "      <td>1.660757</td>\n",
       "      <td>0.444225</td>\n",
       "      <td>62.282408</td>\n",
       "    </tr>\n",
       "    <tr>\n",
       "      <th>96</th>\n",
       "      <td>0.596657</td>\n",
       "      <td>0.076337</td>\n",
       "      <td>1.262697</td>\n",
       "      <td>0.342786</td>\n",
       "      <td>-0.159626</td>\n",
       "      <td>1.128755</td>\n",
       "      <td>15.724642</td>\n",
       "    </tr>\n",
       "    <tr>\n",
       "      <th>97</th>\n",
       "      <td>0.671538</td>\n",
       "      <td>0.276274</td>\n",
       "      <td>1.275723</td>\n",
       "      <td>-0.045361</td>\n",
       "      <td>-0.225269</td>\n",
       "      <td>1.314845</td>\n",
       "      <td>15.942829</td>\n",
       "    </tr>\n",
       "    <tr>\n",
       "      <th>98</th>\n",
       "      <td>0.480736</td>\n",
       "      <td>-0.293525</td>\n",
       "      <td>1.931961</td>\n",
       "      <td>1.090415</td>\n",
       "      <td>0.998431</td>\n",
       "      <td>0.399571</td>\n",
       "      <td>84.279306</td>\n",
       "    </tr>\n",
       "    <tr>\n",
       "      <th>99</th>\n",
       "      <td>-0.089644</td>\n",
       "      <td>-0.173199</td>\n",
       "      <td>1.356629</td>\n",
       "      <td>1.510279</td>\n",
       "      <td>-1.357992</td>\n",
       "      <td>-0.553825</td>\n",
       "      <td>-47.745922</td>\n",
       "    </tr>\n",
       "  </tbody>\n",
       "</table>\n",
       "<p>95 rows × 7 columns</p>\n",
       "</div>"
      ],
      "text/plain": [
       "          f2        f3        f4        f5        f6        f7     target\n",
       "0  -0.773345 -0.002400  0.530888 -1.058400 -1.781132  0.189430 -92.221092\n",
       "1  -0.886568  1.276297  0.665747 -0.378063 -0.658522 -0.945419 -26.926821\n",
       "2   1.356491  0.034605  0.290838  0.310534 -1.067264  2.031287 -44.844748\n",
       "3  -0.799755  0.257057 -0.563355  0.745641  0.869313 -0.403485  25.440314\n",
       "4  -1.268300  0.003044 -0.270158  0.983069  0.523440 -0.497699  12.903885\n",
       "..       ...       ...       ...       ...       ...       ...        ...\n",
       "95  0.058529 -0.250057 -1.787525  0.688256  1.660757  0.444225  62.282408\n",
       "96  0.596657  0.076337  1.262697  0.342786 -0.159626  1.128755  15.724642\n",
       "97  0.671538  0.276274  1.275723 -0.045361 -0.225269  1.314845  15.942829\n",
       "98  0.480736 -0.293525  1.931961  1.090415  0.998431  0.399571  84.279306\n",
       "99 -0.089644 -0.173199  1.356629  1.510279 -1.357992 -0.553825 -47.745922\n",
       "\n",
       "[95 rows x 7 columns]"
      ]
     },
     "execution_count": 342,
     "metadata": {},
     "output_type": "execute_result"
    }
   ],
   "source": [
    "# df = df.drop(\"f3\", axis=1)\n",
    "# df = df.drop(\"f5\", axis=1)\n",
    "# df\n",
    "df"
   ]
  },
  {
   "cell_type": "code",
   "execution_count": 343,
   "metadata": {},
   "outputs": [
    {
     "data": {
      "text/plain": [
       "<AxesSubplot: >"
      ]
     },
     "execution_count": 343,
     "metadata": {},
     "output_type": "execute_result"
    },
    {
     "data": {
      "image/png": "[encoded data removed]",
      "text/plain": [
       "<Figure size 640x480 with 1 Axes>"
      ]
     },
     "metadata": {},
     "output_type": "display_data"
    }
   ],
   "source": [
    "sns.boxplot(df.f5)"
   ]
  },
  {
   "attachments": {},
   "cell_type": "markdown",
   "metadata": {},
   "source": [
    "Избавимся от выбросов в каждом признаке."
   ]
  },
  {
   "cell_type": "code",
   "execution_count": 344,
   "metadata": {},
   "outputs": [],
   "source": [
    "df = df.loc[df['f2'] >= -2]\n",
    "df = df.loc[df['f2'] <= 2.5]\n",
    "df = df.loc[df['f3'] >= -2]\n",
    "df = df.loc[df['f4'] <= 2.5]\n",
    "df = df.loc[df['f5'] >= -2.5]"
   ]
  },
  {
   "attachments": {},
   "cell_type": "markdown",
   "metadata": {},
   "source": [
    "## 3. Разбейте выборку на тренировочные и тестовые данные (60% на 40%)."
   ]
  },
  {
   "cell_type": "code",
   "execution_count": 345,
   "metadata": {},
   "outputs": [],
   "source": [
    "from sklearn.model_selection import train_test_split\n",
    "\n",
    "x = df.drop(\"target\", axis=1)\n",
    "y = df.target\n",
    "\n",
    "x_train, x_test, y_train, y_test = train_test_split(x, y, test_size=0.4, random_state=42)"
   ]
  },
  {
   "attachments": {},
   "cell_type": "markdown",
   "metadata": {},
   "source": [
    "## 4. Для предсказания целевого признака постройте следующие модели, используя библиотеку sklearn:"
   ]
  },
  {
   "attachments": {},
   "cell_type": "markdown",
   "metadata": {},
   "source": [
    "### a) Линейная регрессия LinearRegression()"
   ]
  },
  {
   "cell_type": "code",
   "execution_count": 346,
   "metadata": {},
   "outputs": [
    {
     "name": "stdout",
     "output_type": "stream",
     "text": [
      "0.9959845516089998\n"
     ]
    }
   ],
   "source": [
    "from sklearn.linear_model import LinearRegression\n",
    "\n",
    "linr = LinearRegression()\n",
    "linr.fit(x_train, y_train)\n",
    "print(linr.score(x_test, y_test))"
   ]
  },
  {
   "attachments": {},
   "cell_type": "markdown",
   "metadata": {},
   "source": [
    "### b. Случайный лес RandomForestRegressor()"
   ]
  },
  {
   "cell_type": "code",
   "execution_count": 347,
   "metadata": {},
   "outputs": [
    {
     "name": "stdout",
     "output_type": "stream",
     "text": [
      "0.9219362089466053\n"
     ]
    }
   ],
   "source": [
    "from sklearn.ensemble import RandomForestRegressor\n",
    "\n",
    "rfr = RandomForestRegressor()\n",
    "rfr.fit(x_train, y_train)\n",
    "print(rfr.score(x_test, y_test))"
   ]
  },
  {
   "attachments": {},
   "cell_type": "markdown",
   "metadata": {},
   "source": [
    "### c. Метод ближайших соседей KNeighborsRegressor()"
   ]
  },
  {
   "cell_type": "code",
   "execution_count": 358,
   "metadata": {},
   "outputs": [
    {
     "name": "stdout",
     "output_type": "stream",
     "text": [
      "0.7633456501020669\n"
     ]
    }
   ],
   "source": [
    "from sklearn.neighbors import KNeighborsRegressor\n",
    "\n",
    "knr = KNeighborsRegressor(n_neighbors=2, weights='distance', p=2)\n",
    "knr.fit(x_train, y_train)\n",
    "print(knr.score(x_test, y_test))"
   ]
  },
  {
   "attachments": {},
   "cell_type": "markdown",
   "metadata": {},
   "source": [
    "### d. Метод опорных векторов SVR()"
   ]
  },
  {
   "cell_type": "code",
   "execution_count": 349,
   "metadata": {},
   "outputs": [
    {
     "name": "stdout",
     "output_type": "stream",
     "text": [
      "0.8701643182472123\n"
     ]
    }
   ],
   "source": [
    "from sklearn.svm import SVR\n",
    "\n",
    "svr = SVR(C=100)\n",
    "svr.fit(x_train, y_train)\n",
    "print(svr.score(x_test, y_test))"
   ]
  },
  {
   "attachments": {},
   "cell_type": "markdown",
   "metadata": {},
   "source": [
    "### e. Логистическая регрессия LogisticRegression()"
   ]
  },
  {
   "cell_type": "code",
   "execution_count": 350,
   "metadata": {},
   "outputs": [],
   "source": [
    "#"
   ]
  },
  {
   "attachments": {},
   "cell_type": "markdown",
   "metadata": {},
   "source": [
    "Наилучший результат дала модель LinearRegressin() - 0.99"
   ]
  },
  {
   "cell_type": "code",
   "execution_count": 351,
   "metadata": {},
   "outputs": [
    {
     "name": "stdout",
     "output_type": "stream",
     "text": [
      "[ 6.92823369 -0.06299248 14.43116891  1.48422822 50.72686544  0.24273772]\n"
     ]
    }
   ],
   "source": [
    "print(linr.coef_)"
   ]
  },
  {
   "attachments": {},
   "cell_type": "markdown",
   "metadata": {},
   "source": [
    "При аналиизе, было замечено, что признаки f3, f5 и f7 не влияют на целевую переменную, так и вышло, их можно было спокойно удалить.\n",
    "\n",
    "Больше всего на результат имеет признак f6, затем f4, затем f2."
   ]
  }
 ],
 "metadata": {
  "kernelspec": {
   "display_name": "Python 3",
   "language": "python",
   "name": "python3"
  },
  "language_info": {
   "codemirror_mode": {
    "name": "ipython",
    "version": 3
   },
   "file_extension": ".py",
   "mimetype": "text/x-python",
   "name": "python",
   "nbconvert_exporter": "python",
   "pygments_lexer": "ipython3",
   "version": "3.10.6"
  },
  "orig_nbformat": 4,
  "vscode": {
   "interpreter": {
    "hash": "916dbcbb3f70747c44a77c7bcd40155683ae19c65e1c03b4aa3499c5328201f1"
   }
  }
 },
 "nbformat": 4,
 "nbformat_minor": 2
}
