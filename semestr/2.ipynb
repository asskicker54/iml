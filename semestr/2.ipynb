{
 "cells": [
  {
   "cell_type": "code",
   "execution_count": 131,
   "metadata": {},
   "outputs": [],
   "source": [
    "import pandas as pd\n",
    "import seaborn as sns"
   ]
  },
  {
   "attachments": {},
   "cell_type": "markdown",
   "metadata": {},
   "source": [
    "## 1. Проведите предварительный анализ и подготовку данных, обработайте пропущенные значения."
   ]
  },
  {
   "cell_type": "code",
   "execution_count": 132,
   "metadata": {},
   "outputs": [
    {
     "data": {
      "text/html": [
       "<div>\n",
       "<style scoped>\n",
       "    .dataframe tbody tr th:only-of-type {\n",
       "        vertical-align: middle;\n",
       "    }\n",
       "\n",
       "    .dataframe tbody tr th {\n",
       "        vertical-align: top;\n",
       "    }\n",
       "\n",
       "    .dataframe thead th {\n",
       "        text-align: right;\n",
       "    }\n",
       "</style>\n",
       "<table border=\"1\" class=\"dataframe\">\n",
       "  <thead>\n",
       "    <tr style=\"text-align: right;\">\n",
       "      <th></th>\n",
       "      <th>f1</th>\n",
       "      <th>f2</th>\n",
       "      <th>f3</th>\n",
       "      <th>f4</th>\n",
       "      <th>f5</th>\n",
       "      <th>f6</th>\n",
       "      <th>f7</th>\n",
       "      <th>class</th>\n",
       "    </tr>\n",
       "  </thead>\n",
       "  <tbody>\n",
       "    <tr>\n",
       "      <th>0</th>\n",
       "      <td>-0.077883</td>\n",
       "      <td>-0.425014</td>\n",
       "      <td>-0.425014</td>\n",
       "      <td>-0.016756</td>\n",
       "      <td>-2.245718</td>\n",
       "      <td>0.101312</td>\n",
       "      <td>-0.323289</td>\n",
       "      <td>0</td>\n",
       "    </tr>\n",
       "    <tr>\n",
       "      <th>1</th>\n",
       "      <td>0.061909</td>\n",
       "      <td>0.681756</td>\n",
       "      <td>0.681756</td>\n",
       "      <td>1.160827</td>\n",
       "      <td>-1.188897</td>\n",
       "      <td>-0.817979</td>\n",
       "      <td>NaN</td>\n",
       "      <td>0</td>\n",
       "    </tr>\n",
       "    <tr>\n",
       "      <th>2</th>\n",
       "      <td>-0.465178</td>\n",
       "      <td>3.108444</td>\n",
       "      <td>3.108444</td>\n",
       "      <td>2.222336</td>\n",
       "      <td>1.063594</td>\n",
       "      <td>-0.938602</td>\n",
       "      <td>2.137279</td>\n",
       "      <td>2</td>\n",
       "    </tr>\n",
       "    <tr>\n",
       "      <th>3</th>\n",
       "      <td>-0.605841</td>\n",
       "      <td>-0.075276</td>\n",
       "      <td>-0.075276</td>\n",
       "      <td>0.620968</td>\n",
       "      <td>0.609596</td>\n",
       "      <td>-0.728940</td>\n",
       "      <td>-0.915802</td>\n",
       "      <td>2</td>\n",
       "    </tr>\n",
       "    <tr>\n",
       "      <th>4</th>\n",
       "      <td>0.422396</td>\n",
       "      <td>1.914090</td>\n",
       "      <td>1.914090</td>\n",
       "      <td>-1.301319</td>\n",
       "      <td>-0.908172</td>\n",
       "      <td>-3.227038</td>\n",
       "      <td>-1.729038</td>\n",
       "      <td>0</td>\n",
       "    </tr>\n",
       "  </tbody>\n",
       "</table>\n",
       "</div>"
      ],
      "text/plain": [
       "         f1        f2        f3        f4        f5        f6        f7  class\n",
       "0 -0.077883 -0.425014 -0.425014 -0.016756 -2.245718  0.101312 -0.323289      0\n",
       "1  0.061909  0.681756  0.681756  1.160827 -1.188897 -0.817979       NaN      0\n",
       "2 -0.465178  3.108444  3.108444  2.222336  1.063594 -0.938602  2.137279      2\n",
       "3 -0.605841 -0.075276 -0.075276  0.620968  0.609596 -0.728940 -0.915802      2\n",
       "4  0.422396  1.914090  1.914090 -1.301319 -0.908172 -3.227038 -1.729038      0"
      ]
     },
     "execution_count": 132,
     "metadata": {},
     "output_type": "execute_result"
    }
   ],
   "source": [
    "df = pd.read_csv(\"./dataset_var1_class.csv\", sep=\";\", names=[\"f1\", \"f2\", \"f3\", \"f4\", \"f5\", \"f6\", \"f7\", \"class\"])\n",
    "df.head()"
   ]
  },
  {
   "cell_type": "code",
   "execution_count": 133,
   "metadata": {},
   "outputs": [
    {
     "name": "stdout",
     "output_type": "stream",
     "text": [
      "<class 'pandas.core.frame.DataFrame'>\n",
      "RangeIndex: 100 entries, 0 to 99\n",
      "Data columns (total 8 columns):\n",
      " #   Column  Non-Null Count  Dtype  \n",
      "---  ------  --------------  -----  \n",
      " 0   f1      100 non-null    float64\n",
      " 1   f2      100 non-null    float64\n",
      " 2   f3      100 non-null    float64\n",
      " 3   f4      95 non-null     float64\n",
      " 4   f5      100 non-null    float64\n",
      " 5   f6      100 non-null    float64\n",
      " 6   f7      95 non-null     float64\n",
      " 7   class   100 non-null    int64  \n",
      "dtypes: float64(7), int64(1)\n",
      "memory usage: 6.4 KB\n"
     ]
    }
   ],
   "source": [
    "df.info()"
   ]
  },
  {
   "cell_type": "code",
   "execution_count": 134,
   "metadata": {},
   "outputs": [
    {
     "data": {
      "text/plain": [
       "f1       0\n",
       "f2       0\n",
       "f3       0\n",
       "f4       5\n",
       "f5       0\n",
       "f6       0\n",
       "f7       5\n",
       "class    0\n",
       "dtype: int64"
      ]
     },
     "execution_count": 134,
     "metadata": {},
     "output_type": "execute_result"
    }
   ],
   "source": [
    "df.isna().sum()"
   ]
  },
  {
   "cell_type": "code",
   "execution_count": 135,
   "metadata": {},
   "outputs": [
    {
     "data": {
      "text/plain": [
       "f1       0\n",
       "f2       0\n",
       "f3       0\n",
       "f4       0\n",
       "f5       0\n",
       "f6       0\n",
       "f7       0\n",
       "class    0\n",
       "dtype: int64"
      ]
     },
     "execution_count": 135,
     "metadata": {},
     "output_type": "execute_result"
    }
   ],
   "source": [
    "df = df.dropna()\n",
    "df.isna().sum()"
   ]
  },
  {
   "attachments": {},
   "cell_type": "markdown",
   "metadata": {},
   "source": [
    "## 2. Проведите статистический анализ, оцените корреляции между признаками, оцените возможные выбросы в данных, постройте поясняющие графики. Удалите из рассмотрения признаки, которые не влияют на целевой."
   ]
  },
  {
   "cell_type": "code",
   "execution_count": 136,
   "metadata": {},
   "outputs": [
    {
     "data": {
      "text/html": [
       "<div>\n",
       "<style scoped>\n",
       "    .dataframe tbody tr th:only-of-type {\n",
       "        vertical-align: middle;\n",
       "    }\n",
       "\n",
       "    .dataframe tbody tr th {\n",
       "        vertical-align: top;\n",
       "    }\n",
       "\n",
       "    .dataframe thead th {\n",
       "        text-align: right;\n",
       "    }\n",
       "</style>\n",
       "<table border=\"1\" class=\"dataframe\">\n",
       "  <thead>\n",
       "    <tr style=\"text-align: right;\">\n",
       "      <th></th>\n",
       "      <th>f1</th>\n",
       "      <th>f2</th>\n",
       "      <th>f3</th>\n",
       "      <th>f4</th>\n",
       "      <th>f5</th>\n",
       "      <th>f6</th>\n",
       "      <th>f7</th>\n",
       "      <th>class</th>\n",
       "    </tr>\n",
       "  </thead>\n",
       "  <tbody>\n",
       "    <tr>\n",
       "      <th>count</th>\n",
       "      <td>90.000000</td>\n",
       "      <td>90.000000</td>\n",
       "      <td>90.000000</td>\n",
       "      <td>90.000000</td>\n",
       "      <td>90.000000</td>\n",
       "      <td>90.000000</td>\n",
       "      <td>90.000000</td>\n",
       "      <td>90.000000</td>\n",
       "    </tr>\n",
       "    <tr>\n",
       "      <th>mean</th>\n",
       "      <td>0.057434</td>\n",
       "      <td>0.455619</td>\n",
       "      <td>0.394391</td>\n",
       "      <td>-0.036937</td>\n",
       "      <td>0.043969</td>\n",
       "      <td>-0.612244</td>\n",
       "      <td>-0.295712</td>\n",
       "      <td>0.988889</td>\n",
       "    </tr>\n",
       "    <tr>\n",
       "      <th>std</th>\n",
       "      <td>0.947371</td>\n",
       "      <td>2.068441</td>\n",
       "      <td>1.291208</td>\n",
       "      <td>1.045718</td>\n",
       "      <td>0.936738</td>\n",
       "      <td>1.056515</td>\n",
       "      <td>1.218385</td>\n",
       "      <td>0.800203</td>\n",
       "    </tr>\n",
       "    <tr>\n",
       "      <th>min</th>\n",
       "      <td>-3.106759</td>\n",
       "      <td>-9.115677</td>\n",
       "      <td>-2.877229</td>\n",
       "      <td>-2.500325</td>\n",
       "      <td>-2.245718</td>\n",
       "      <td>-3.610876</td>\n",
       "      <td>-2.799984</td>\n",
       "      <td>0.000000</td>\n",
       "    </tr>\n",
       "    <tr>\n",
       "      <th>25%</th>\n",
       "      <td>-0.493971</td>\n",
       "      <td>-0.392851</td>\n",
       "      <td>-0.392851</td>\n",
       "      <td>-0.772108</td>\n",
       "      <td>-0.513161</td>\n",
       "      <td>-1.188588</td>\n",
       "      <td>-1.236710</td>\n",
       "      <td>0.000000</td>\n",
       "    </tr>\n",
       "    <tr>\n",
       "      <th>50%</th>\n",
       "      <td>0.013628</td>\n",
       "      <td>0.752794</td>\n",
       "      <td>0.721881</td>\n",
       "      <td>-0.046240</td>\n",
       "      <td>0.078276</td>\n",
       "      <td>-0.296809</td>\n",
       "      <td>-0.516845</td>\n",
       "      <td>1.000000</td>\n",
       "    </tr>\n",
       "    <tr>\n",
       "      <th>75%</th>\n",
       "      <td>0.526093</td>\n",
       "      <td>1.392703</td>\n",
       "      <td>1.254550</td>\n",
       "      <td>0.653256</td>\n",
       "      <td>0.708921</td>\n",
       "      <td>0.156025</td>\n",
       "      <td>0.626185</td>\n",
       "      <td>2.000000</td>\n",
       "    </tr>\n",
       "    <tr>\n",
       "      <th>max</th>\n",
       "      <td>2.398828</td>\n",
       "      <td>9.098121</td>\n",
       "      <td>3.108444</td>\n",
       "      <td>2.749594</td>\n",
       "      <td>2.011056</td>\n",
       "      <td>1.514504</td>\n",
       "      <td>2.515428</td>\n",
       "      <td>2.000000</td>\n",
       "    </tr>\n",
       "  </tbody>\n",
       "</table>\n",
       "</div>"
      ],
      "text/plain": [
       "              f1         f2         f3         f4         f5         f6  \\\n",
       "count  90.000000  90.000000  90.000000  90.000000  90.000000  90.000000   \n",
       "mean    0.057434   0.455619   0.394391  -0.036937   0.043969  -0.612244   \n",
       "std     0.947371   2.068441   1.291208   1.045718   0.936738   1.056515   \n",
       "min    -3.106759  -9.115677  -2.877229  -2.500325  -2.245718  -3.610876   \n",
       "25%    -0.493971  -0.392851  -0.392851  -0.772108  -0.513161  -1.188588   \n",
       "50%     0.013628   0.752794   0.721881  -0.046240   0.078276  -0.296809   \n",
       "75%     0.526093   1.392703   1.254550   0.653256   0.708921   0.156025   \n",
       "max     2.398828   9.098121   3.108444   2.749594   2.011056   1.514504   \n",
       "\n",
       "              f7      class  \n",
       "count  90.000000  90.000000  \n",
       "mean   -0.295712   0.988889  \n",
       "std     1.218385   0.800203  \n",
       "min    -2.799984   0.000000  \n",
       "25%    -1.236710   0.000000  \n",
       "50%    -0.516845   1.000000  \n",
       "75%     0.626185   2.000000  \n",
       "max     2.515428   2.000000  "
      ]
     },
     "execution_count": 136,
     "metadata": {},
     "output_type": "execute_result"
    }
   ],
   "source": [
    "df.describe()"
   ]
  },
  {
   "cell_type": "code",
   "execution_count": 137,
   "metadata": {},
   "outputs": [
    {
     "data": {
      "text/html": [
       "<div>\n",
       "<style scoped>\n",
       "    .dataframe tbody tr th:only-of-type {\n",
       "        vertical-align: middle;\n",
       "    }\n",
       "\n",
       "    .dataframe tbody tr th {\n",
       "        vertical-align: top;\n",
       "    }\n",
       "\n",
       "    .dataframe thead th {\n",
       "        text-align: right;\n",
       "    }\n",
       "</style>\n",
       "<table border=\"1\" class=\"dataframe\">\n",
       "  <thead>\n",
       "    <tr style=\"text-align: right;\">\n",
       "      <th></th>\n",
       "      <th>f1</th>\n",
       "      <th>f2</th>\n",
       "      <th>f3</th>\n",
       "      <th>f4</th>\n",
       "      <th>f5</th>\n",
       "      <th>f6</th>\n",
       "      <th>f7</th>\n",
       "      <th>class</th>\n",
       "    </tr>\n",
       "  </thead>\n",
       "  <tbody>\n",
       "    <tr>\n",
       "      <th>f1</th>\n",
       "      <td>1.000</td>\n",
       "      <td>-0.017</td>\n",
       "      <td>0.100</td>\n",
       "      <td>0.077</td>\n",
       "      <td>-0.076</td>\n",
       "      <td>-0.087</td>\n",
       "      <td>0.023</td>\n",
       "      <td>-0.004</td>\n",
       "    </tr>\n",
       "    <tr>\n",
       "      <th>f2</th>\n",
       "      <td>-0.017</td>\n",
       "      <td>1.000</td>\n",
       "      <td>0.720</td>\n",
       "      <td>-0.011</td>\n",
       "      <td>0.208</td>\n",
       "      <td>-0.367</td>\n",
       "      <td>0.424</td>\n",
       "      <td>0.009</td>\n",
       "    </tr>\n",
       "    <tr>\n",
       "      <th>f3</th>\n",
       "      <td>0.100</td>\n",
       "      <td>0.720</td>\n",
       "      <td>1.000</td>\n",
       "      <td>0.102</td>\n",
       "      <td>0.178</td>\n",
       "      <td>-0.547</td>\n",
       "      <td>0.551</td>\n",
       "      <td>0.035</td>\n",
       "    </tr>\n",
       "    <tr>\n",
       "      <th>f4</th>\n",
       "      <td>0.077</td>\n",
       "      <td>-0.011</td>\n",
       "      <td>0.102</td>\n",
       "      <td>1.000</td>\n",
       "      <td>-0.143</td>\n",
       "      <td>0.030</td>\n",
       "      <td>0.141</td>\n",
       "      <td>0.119</td>\n",
       "    </tr>\n",
       "    <tr>\n",
       "      <th>f5</th>\n",
       "      <td>-0.076</td>\n",
       "      <td>0.208</td>\n",
       "      <td>0.178</td>\n",
       "      <td>-0.143</td>\n",
       "      <td>1.000</td>\n",
       "      <td>-0.086</td>\n",
       "      <td>0.109</td>\n",
       "      <td>0.144</td>\n",
       "    </tr>\n",
       "    <tr>\n",
       "      <th>f6</th>\n",
       "      <td>-0.087</td>\n",
       "      <td>-0.367</td>\n",
       "      <td>-0.547</td>\n",
       "      <td>0.030</td>\n",
       "      <td>-0.086</td>\n",
       "      <td>1.000</td>\n",
       "      <td>0.397</td>\n",
       "      <td>0.596</td>\n",
       "    </tr>\n",
       "    <tr>\n",
       "      <th>f7</th>\n",
       "      <td>0.023</td>\n",
       "      <td>0.424</td>\n",
       "      <td>0.551</td>\n",
       "      <td>0.141</td>\n",
       "      <td>0.109</td>\n",
       "      <td>0.397</td>\n",
       "      <td>1.000</td>\n",
       "      <td>0.633</td>\n",
       "    </tr>\n",
       "    <tr>\n",
       "      <th>class</th>\n",
       "      <td>-0.004</td>\n",
       "      <td>0.009</td>\n",
       "      <td>0.035</td>\n",
       "      <td>0.119</td>\n",
       "      <td>0.144</td>\n",
       "      <td>0.596</td>\n",
       "      <td>0.633</td>\n",
       "      <td>1.000</td>\n",
       "    </tr>\n",
       "  </tbody>\n",
       "</table>\n",
       "</div>"
      ],
      "text/plain": [
       "          f1     f2     f3     f4     f5     f6     f7  class\n",
       "f1     1.000 -0.017  0.100  0.077 -0.076 -0.087  0.023 -0.004\n",
       "f2    -0.017  1.000  0.720 -0.011  0.208 -0.367  0.424  0.009\n",
       "f3     0.100  0.720  1.000  0.102  0.178 -0.547  0.551  0.035\n",
       "f4     0.077 -0.011  0.102  1.000 -0.143  0.030  0.141  0.119\n",
       "f5    -0.076  0.208  0.178 -0.143  1.000 -0.086  0.109  0.144\n",
       "f6    -0.087 -0.367 -0.547  0.030 -0.086  1.000  0.397  0.596\n",
       "f7     0.023  0.424  0.551  0.141  0.109  0.397  1.000  0.633\n",
       "class -0.004  0.009  0.035  0.119  0.144  0.596  0.633  1.000"
      ]
     },
     "execution_count": 137,
     "metadata": {},
     "output_type": "execute_result"
    }
   ],
   "source": [
    "corr_matrix = df.corr().round(3)\n",
    "corr_matrix"
   ]
  },
  {
   "cell_type": "code",
   "execution_count": 138,
   "metadata": {},
   "outputs": [
    {
     "data": {
      "text/plain": [
       "<AxesSubplot: >"
      ]
     },
     "execution_count": 138,
     "metadata": {},
     "output_type": "execute_result"
    },
    {
     "data": {
      "image/png": "[encoded data removed]",
      "text/plain": [
       "<Figure size 640x480 with 2 Axes>"
      ]
     },
     "metadata": {},
     "output_type": "display_data"
    }
   ],
   "source": [
    "sns.heatmap(corr_matrix, annot=True)"
   ]
  },
  {
   "attachments": {},
   "cell_type": "markdown",
   "metadata": {},
   "source": [
    "Признаки f1, f2 и f3 имеют крайне малую корреляционную связь с классом, соответственно, мы можем не использовать их для обучения модели, так как они скорее всего не будут влиять на результат."
   ]
  },
  {
   "cell_type": "code",
   "execution_count": 139,
   "metadata": {},
   "outputs": [
    {
     "data": {
      "text/html": [
       "<div>\n",
       "<style scoped>\n",
       "    .dataframe tbody tr th:only-of-type {\n",
       "        vertical-align: middle;\n",
       "    }\n",
       "\n",
       "    .dataframe tbody tr th {\n",
       "        vertical-align: top;\n",
       "    }\n",
       "\n",
       "    .dataframe thead th {\n",
       "        text-align: right;\n",
       "    }\n",
       "</style>\n",
       "<table border=\"1\" class=\"dataframe\">\n",
       "  <thead>\n",
       "    <tr style=\"text-align: right;\">\n",
       "      <th></th>\n",
       "      <th>f4</th>\n",
       "      <th>f5</th>\n",
       "      <th>f6</th>\n",
       "      <th>f7</th>\n",
       "      <th>class</th>\n",
       "    </tr>\n",
       "  </thead>\n",
       "  <tbody>\n",
       "    <tr>\n",
       "      <th>0</th>\n",
       "      <td>-0.016756</td>\n",
       "      <td>-2.245718</td>\n",
       "      <td>0.101312</td>\n",
       "      <td>-0.323289</td>\n",
       "      <td>0</td>\n",
       "    </tr>\n",
       "    <tr>\n",
       "      <th>2</th>\n",
       "      <td>2.222336</td>\n",
       "      <td>1.063594</td>\n",
       "      <td>-0.938602</td>\n",
       "      <td>2.137279</td>\n",
       "      <td>2</td>\n",
       "    </tr>\n",
       "    <tr>\n",
       "      <th>3</th>\n",
       "      <td>0.620968</td>\n",
       "      <td>0.609596</td>\n",
       "      <td>-0.728940</td>\n",
       "      <td>-0.915802</td>\n",
       "      <td>2</td>\n",
       "    </tr>\n",
       "    <tr>\n",
       "      <th>4</th>\n",
       "      <td>-1.301319</td>\n",
       "      <td>-0.908172</td>\n",
       "      <td>-3.227038</td>\n",
       "      <td>-1.729038</td>\n",
       "      <td>0</td>\n",
       "    </tr>\n",
       "    <tr>\n",
       "      <th>5</th>\n",
       "      <td>-1.087863</td>\n",
       "      <td>1.337721</td>\n",
       "      <td>-1.743601</td>\n",
       "      <td>-0.801131</td>\n",
       "      <td>0</td>\n",
       "    </tr>\n",
       "  </tbody>\n",
       "</table>\n",
       "</div>"
      ],
      "text/plain": [
       "         f4        f5        f6        f7  class\n",
       "0 -0.016756 -2.245718  0.101312 -0.323289      0\n",
       "2  2.222336  1.063594 -0.938602  2.137279      2\n",
       "3  0.620968  0.609596 -0.728940 -0.915802      2\n",
       "4 -1.301319 -0.908172 -3.227038 -1.729038      0\n",
       "5 -1.087863  1.337721 -1.743601 -0.801131      0"
      ]
     },
     "execution_count": 139,
     "metadata": {},
     "output_type": "execute_result"
    }
   ],
   "source": [
    "df = df.drop(\"f1\", axis=1)\n",
    "df = df.drop(\"f2\", axis=1)\n",
    "df = df.drop(\"f3\", axis=1)\n",
    "df.head()"
   ]
  },
  {
   "cell_type": "code",
   "execution_count": 140,
   "metadata": {},
   "outputs": [
    {
     "data": {
      "text/plain": [
       "<AxesSubplot: >"
      ]
     },
     "execution_count": 140,
     "metadata": {},
     "output_type": "execute_result"
    },
    {
     "data": {
      "image/png": "[encoded data removed]",
      "text/plain": [
       "<Figure size 640x480 with 1 Axes>"
      ]
     },
     "metadata": {},
     "output_type": "display_data"
    }
   ],
   "source": [
    "sns.boxplot(df.f6)"
   ]
  },
  {
   "attachments": {},
   "cell_type": "markdown",
   "metadata": {},
   "source": [
    "Выбросы наблюдаются только в признаке f6."
   ]
  },
  {
   "cell_type": "code",
   "execution_count": 141,
   "metadata": {},
   "outputs": [],
   "source": [
    "#df = df.loc[df['f6'] >= -3]\n",
    "#df"
   ]
  },
  {
   "cell_type": "code",
   "execution_count": 142,
   "metadata": {},
   "outputs": [
    {
     "data": {
      "text/plain": [
       "<AxesSubplot: >"
      ]
     },
     "execution_count": 142,
     "metadata": {},
     "output_type": "execute_result"
    },
    {
     "data": {
      "image/png": "[encoded data removed]",
      "text/plain": [
       "<Figure size 640x480 with 1 Axes>"
      ]
     },
     "metadata": {},
     "output_type": "display_data"
    }
   ],
   "source": [
    "sns.boxplot(df[\"f6\"])"
   ]
  },
  {
   "attachments": {},
   "cell_type": "markdown",
   "metadata": {},
   "source": [
    "## 3. Разбейте выборку на тренировочные и тестовые данные (60% на 40%)."
   ]
  },
  {
   "cell_type": "code",
   "execution_count": 143,
   "metadata": {},
   "outputs": [],
   "source": [
    "from sklearn.model_selection import train_test_split\n",
    "\n",
    "x = df.drop(\"class\", axis=1)\n",
    "y = df['class']\n",
    "\n",
    "x_train, x_test, y_train, y_test = train_test_split(x, y, test_size=0.4, random_state=42) "
   ]
  },
  {
   "attachments": {},
   "cell_type": "markdown",
   "metadata": {},
   "source": [
    "## 4. Для предсказания класса постройте две модели, используя библиотеку sklearn:\n",
    "a. Случайный лес RandomForestClassifier()\n",
    "b. Метод ближайших соседей KNeighborsClassifier()"
   ]
  },
  {
   "attachments": {},
   "cell_type": "markdown",
   "metadata": {},
   "source": [
    "### a. Случайный лес RandomForestClassifier()"
   ]
  },
  {
   "cell_type": "code",
   "execution_count": 161,
   "metadata": {},
   "outputs": [
    {
     "name": "stdout",
     "output_type": "stream",
     "text": [
      "score: 0.8055555555555556\n",
      "              precision    recall  f1-score   support\n",
      "\n",
      "           0       0.91      1.00      0.95        10\n",
      "           1       0.75      0.69      0.72        13\n",
      "           2       0.77      0.77      0.77        13\n",
      "\n",
      "    accuracy                           0.81        36\n",
      "   macro avg       0.81      0.82      0.81        36\n",
      "weighted avg       0.80      0.81      0.80        36\n",
      "\n"
     ]
    }
   ],
   "source": [
    "from sklearn.ensemble import RandomForestClassifier\n",
    "from sklearn.metrics import classification_report\n",
    "\n",
    "rfc = RandomForestClassifier(n_estimators=100)\n",
    "rfc.fit(x_train, y_train)\n",
    "print(f\"score: {rfc.score(x_test, y_test)}\")\n",
    "print(classification_report(rfc.predict(x_test), y_test))"
   ]
  },
  {
   "attachments": {},
   "cell_type": "markdown",
   "metadata": {},
   "source": [
    "### b. Метод ближайших соседей KNeighborsClassifier()"
   ]
  },
  {
   "cell_type": "code",
   "execution_count": 148,
   "metadata": {},
   "outputs": [
    {
     "name": "stdout",
     "output_type": "stream",
     "text": [
      "score: 0.8055555555555556\n",
      "              precision    recall  f1-score   support\n",
      "\n",
      "           0       1.00      0.92      0.96        12\n",
      "           1       0.75      0.75      0.75        12\n",
      "           2       0.69      0.75      0.72        12\n",
      "\n",
      "    accuracy                           0.81        36\n",
      "   macro avg       0.81      0.81      0.81        36\n",
      "weighted avg       0.81      0.81      0.81        36\n",
      "\n"
     ]
    }
   ],
   "source": [
    "from sklearn.neighbors import KNeighborsClassifier\n",
    "\n",
    "knc = KNeighborsClassifier(n_neighbors=10)\n",
    "knc.fit(x_train, y_train)\n",
    "print(f\"score: {knc.score(x_test, y_test)}\")\n",
    "print(classification_report(knc.predict(x_test), y_test))"
   ]
  },
  {
   "cell_type": "code",
   "execution_count": 166,
   "metadata": {},
   "outputs": [
    {
     "name": "stdout",
     "output_type": "stream",
     "text": [
      "score: 0.7222222222222222\n"
     ]
    }
   ],
   "source": [
    "from sklearn.linear_model import LogisticRegression\n",
    "\n",
    "lr = LogisticRegression()\n",
    "lr.fit(x_train, y_train)\n",
    "print(f\"score: {lr.score(x_test, y_test)}\")"
   ]
  },
  {
   "attachments": {},
   "cell_type": "markdown",
   "metadata": {},
   "source": [
    "Наилучший результат дала модель KNeighborsClassifier()"
   ]
  }
 ],
 "metadata": {
  "kernelspec": {
   "display_name": "Python 3",
   "language": "python",
   "name": "python3"
  },
  "language_info": {
   "codemirror_mode": {
    "name": "ipython",
    "version": 3
   },
   "file_extension": ".py",
   "mimetype": "text/x-python",
   "name": "python",
   "nbconvert_exporter": "python",
   "pygments_lexer": "ipython3",
   "version": "3.10.6"
  },
  "orig_nbformat": 4,
  "vscode": {
   "interpreter": {
    "hash": "916dbcbb3f70747c44a77c7bcd40155683ae19c65e1c03b4aa3499c5328201f1"
   }
  }
 },
 "nbformat": 4,
 "nbformat_minor": 2
}
