{
 "cells": [
  {
   "cell_type": "code",
   "execution_count": 1,
   "metadata": {},
   "outputs": [],
   "source": [
    "import numpy as np\n",
    "import sys"
   ]
  },
  {
   "cell_type": "markdown",
   "metadata": {},
   "source": [
    "Задание 1"
   ]
  },
  {
   "cell_type": "markdown",
   "metadata": {},
   "source": [
    "1. Массив со значениями 1, 7, 13, 105. Посчитайте и выведите на экран размер\n",
    "памяти, который он занимает. Сохраните массив в текстовый и бинарный файлы. \n",
    "Затем загрузите его и выведите на экран."
   ]
  },
  {
   "cell_type": "code",
   "execution_count": 2,
   "metadata": {},
   "outputs": [
    {
     "name": "stdout",
     "output_type": "stream",
     "text": [
      "Размер занимаемой памяти: 384\n",
      "txt:  [  1   7  13 105]\n",
      "bin:  [  1   7  13 105]\n"
     ]
    }
   ],
   "source": [
    "x = np.array([1, 7, 13, 105])\n",
    "print(f\"Размер занимаемой памяти: {x.size * sys.getsizeof(x.dtype)}\")\n",
    "\n",
    "np.savetxt('./data/task1.txt', x, fmt=\"%d\")\n",
    "np.save('./data/task1.npy', x)\n",
    "\n",
    "x_txt = np.loadtxt('./data/task1.txt', dtype=np.int8)\n",
    "x_bin = np.load('./data/task1.npy')\n",
    "\n",
    "print('txt: ', x_txt)\n",
    "print('bin: ', x_bin)"
   ]
  },
  {
   "cell_type": "markdown",
   "metadata": {},
   "source": [
    "2. Три массива: из 10 нулей, 10 единиц, 10 пятерок."
   ]
  },
  {
   "cell_type": "code",
   "execution_count": 3,
   "metadata": {},
   "outputs": [
    {
     "name": "stdout",
     "output_type": "stream",
     "text": [
      "[0 0 0 0 0 0 0 0 0 0]\n",
      "[1 1 1 1 1 1 1 1 1 1]\n",
      "[5 5 5 5 5 5 5 5 5 5]\n"
     ]
    }
   ],
   "source": [
    "x0 = np.zeros(10, dtype=np.int8)\n",
    "x1 = np.ones(10, dtype=np.int8)\n",
    "x5 = np.array([5] * 10)\n",
    "print(x0)\n",
    "print(x1)\n",
    "print(x5)"
   ]
  },
  {
   "cell_type": "markdown",
   "metadata": {},
   "source": [
    "3. Массив последовательности четных целых чисел от 30 до 70."
   ]
  },
  {
   "cell_type": "code",
   "execution_count": 4,
   "metadata": {},
   "outputs": [
    {
     "name": "stdout",
     "output_type": "stream",
     "text": [
      "[30 32 34 36 38 40 42 44 46 48 50 52 54 56 58 60 62 64 66 68]\n"
     ]
    }
   ],
   "source": [
    "print(np.arange(30, 70, 2))"
   ]
  },
  {
   "cell_type": "markdown",
   "metadata": {},
   "source": [
    "4. Массив из 10 элементов со значениями, равномерно распределенными между 5 и \n",
    "50."
   ]
  },
  {
   "cell_type": "code",
   "execution_count": 5,
   "metadata": {},
   "outputs": [
    {
     "name": "stdout",
     "output_type": "stream",
     "text": [
      "[ 5 10 15 20 25 30 35 40 45 50]\n"
     ]
    }
   ],
   "source": [
    "print(np.linspace(5, 50, 10, dtype=np.int8))"
   ]
  },
  {
   "cell_type": "markdown",
   "metadata": {},
   "source": [
    "5. Массив 3x3x3 из 27 случайных чисел в диапазоне от 1 до 100."
   ]
  },
  {
   "cell_type": "code",
   "execution_count": 6,
   "metadata": {},
   "outputs": [
    {
     "name": "stdout",
     "output_type": "stream",
     "text": [
      "[[[36 15 48]\n",
      "  [10 42 15]\n",
      "  [87 81 48]]\n",
      "\n",
      " [[96 92 63]\n",
      "  [71 69 14]\n",
      "  [24 68 72]]\n",
      "\n",
      " [[19 95 24]\n",
      "  [30 93 50]\n",
      "  [97 18 87]]]\n"
     ]
    }
   ],
   "source": [
    "print(np.random.randint(1, 100, size=(3, 3, 3), dtype=np.int8))"
   ]
  },
  {
   "cell_type": "markdown",
   "metadata": {},
   "source": [
    "6. Массив 3х4, заполненной значениями от 30 до 41"
   ]
  },
  {
   "cell_type": "code",
   "execution_count": 7,
   "metadata": {},
   "outputs": [
    {
     "name": "stdout",
     "output_type": "stream",
     "text": [
      "[[30 31 32 33]\n",
      " [34 35 36 37]\n",
      " [38 39 40 41]]\n"
     ]
    }
   ],
   "source": [
    "print(np.arange(30, 42).reshape(3, 4))"
   ]
  },
  {
   "cell_type": "markdown",
   "metadata": {},
   "source": [
    "7. Массив 10x10, в котором элементы на границах равны 1, а внутри 0."
   ]
  },
  {
   "cell_type": "code",
   "execution_count": 8,
   "metadata": {},
   "outputs": [
    {
     "name": "stdout",
     "output_type": "stream",
     "text": [
      "[[1 1 1 1 1 1 1 1 1 1]\n",
      " [1 0 0 0 0 0 0 0 0 1]\n",
      " [1 0 0 0 0 0 0 0 0 1]\n",
      " [1 0 0 0 0 0 0 0 0 1]\n",
      " [1 0 0 0 0 0 0 0 0 1]\n",
      " [1 0 0 0 0 0 0 0 0 1]\n",
      " [1 0 0 0 0 0 0 0 0 1]\n",
      " [1 0 0 0 0 0 0 0 0 1]\n",
      " [1 0 0 0 0 0 0 0 0 1]\n",
      " [1 1 1 1 1 1 1 1 1 1]]\n"
     ]
    }
   ],
   "source": [
    "x = np.ones((10, 10), dtype=np.int8)\n",
    "x[1:-1, 1:-1] = 0\n",
    "print(x)\n"
   ]
  },
  {
   "cell_type": "markdown",
   "metadata": {},
   "source": [
    "8. Массив 5x5 из нулей с элементами на главной диагонали равными 1, 2, 3, 4, 5."
   ]
  },
  {
   "cell_type": "code",
   "execution_count": 9,
   "metadata": {},
   "outputs": [
    {
     "name": "stdout",
     "output_type": "stream",
     "text": [
      "[[1 0 0 0 0]\n",
      " [0 2 0 0 0]\n",
      " [0 0 3 0 0]\n",
      " [0 0 0 4 0]\n",
      " [0 0 0 0 5]]\n"
     ]
    }
   ],
   "source": [
    "print(np.diag(range(1, 6)))"
   ]
  },
  {
   "cell_type": "markdown",
   "metadata": {},
   "source": [
    "9. Массив 4x4, в котором 0 и 1 расположены в шахматном порядке, с нулями на \n",
    "главной диагонали."
   ]
  },
  {
   "cell_type": "code",
   "execution_count": 10,
   "metadata": {},
   "outputs": [
    {
     "name": "stdout",
     "output_type": "stream",
     "text": [
      "[[0 1 0 1]\n",
      " [1 0 1 0]\n",
      " [0 1 0 1]\n",
      " [1 0 1 0]]\n"
     ]
    }
   ],
   "source": [
    "x = np.zeros((4, 4), dtype=np.int8)\n",
    "x[1::2, ::2] = 1\n",
    "x[::2, 1::2] = 1\n",
    "print(x)"
   ]
  },
  {
   "cell_type": "markdown",
   "metadata": {},
   "source": [
    "10. Массив, заполненный всеми днями марта 2017 года. Тип данных массива – дата."
   ]
  },
  {
   "cell_type": "code",
   "execution_count": 11,
   "metadata": {},
   "outputs": [
    {
     "name": "stdout",
     "output_type": "stream",
     "text": [
      "['2017-03-01' '2017-03-02' '2017-03-03' '2017-03-04' '2017-03-05'\n",
      " '2017-03-06' '2017-03-07' '2017-03-08' '2017-03-09' '2017-03-10'\n",
      " '2017-03-11' '2017-03-12' '2017-03-13' '2017-03-14' '2017-03-15'\n",
      " '2017-03-16' '2017-03-17' '2017-03-18' '2017-03-19' '2017-03-20'\n",
      " '2017-03-21' '2017-03-22' '2017-03-23' '2017-03-24' '2017-03-25'\n",
      " '2017-03-26' '2017-03-27' '2017-03-28' '2017-03-29' '2017-03-30']\n"
     ]
    }
   ],
   "source": [
    "print(np.arange('2017-03-01', '2017-03-31', dtype=np.datetime64))"
   ]
  },
  {
   "cell_type": "markdown",
   "metadata": {},
   "source": [
    "Задание 2"
   ]
  },
  {
   "cell_type": "markdown",
   "metadata": {},
   "source": [
    "1. Дано два массива. Получите массив, состоящий из их общих элементов.\n",
    "Например, для массивов [0 10 20 40 60] и [10 30 40] ответом будет [10, 40]."
   ]
  },
  {
   "cell_type": "code",
   "execution_count": 12,
   "metadata": {},
   "outputs": [
    {
     "name": "stdout",
     "output_type": "stream",
     "text": [
      "[10 40]\n"
     ]
    }
   ],
   "source": [
    "x1 = np.array([0, 10, 20, 40, 60], dtype=np.int8)\n",
    "x2 = np.array([10, 30, 40], dtype=np.int8)\n",
    "print(np.intersect1d(x1, x2))"
   ]
  },
  {
   "cell_type": "markdown",
   "metadata": {},
   "source": [
    "2. Дан массив. Получите массив его уникальных элементов.\n",
    "Исходный массив: [10 10 20 20 30 30] \n",
    "Массив его уникальных элементов: [10 20 30] \n",
    "Исходный массив: \n",
    "[[1 1] \n",
    "[2 3]] \n",
    "Массив его уникальных элементов: [1 2 3]"
   ]
  },
  {
   "cell_type": "code",
   "execution_count": 13,
   "metadata": {},
   "outputs": [
    {
     "name": "stdout",
     "output_type": "stream",
     "text": [
      "[10 10 20 20 30 30] \n",
      " [10 20 30] \n",
      "\n",
      "[[1 1]\n",
      " [2 3]] \n",
      " [1 2 3]\n"
     ]
    }
   ],
   "source": [
    "x1 = np.array([10, 10, 20, 20, 30, 30])\n",
    "print(x1, '\\n', np.unique(x1), '\\n')\n",
    "x2 = np.array([[1, 1], [2, 3]])\n",
    "print(x2, '\\n', np.unique(x2))"
   ]
  },
  {
   "cell_type": "markdown",
   "metadata": {},
   "source": [
    "3.Дан массив. Получите два массива: его уникальные элементы и их частоты.\n",
    "Исходный массив: [10 10 20 10 20 20 20 30 30 50 40 40]\n",
    "Два массива: [10 20 30 40 50], [3 4 2 2 1]\n"
   ]
  },
  {
   "cell_type": "code",
   "execution_count": 15,
   "metadata": {},
   "outputs": [
    {
     "name": "stdout",
     "output_type": "stream",
     "text": [
      "[10 20 30 40 50] [3 4 2 2 1]\n"
     ]
    }
   ],
   "source": [
    "x = np.array([10, 10, 20, 10, 20, 20, 20, 30, 30, 50, 40, 40])\n",
    "array, period = np.unique(x, return_counts=True)\n",
    "print(array, period)"
   ]
  },
  {
   "cell_type": "markdown",
   "metadata": {},
   "source": [
    "4.Дан массив. Получите массив путем повторения данного.\n",
    "Образец массива: [1, 2, 3, 4]\n",
    "Ожидаемый результат:\n",
    "1 повторение\n",
    "[1, 2, 3, 4]\n",
    "2 повторения\n",
    "[1, 2, 3, 4, 1, 2, 3, 4]\n",
    "3 повторения\n",
    "[1, 2, 3, 4, 1, 2, 3, 4, 1, 2, 3, 4]"
   ]
  },
  {
   "cell_type": "code",
   "execution_count": 21,
   "metadata": {},
   "outputs": [
    {
     "name": "stdout",
     "output_type": "stream",
     "text": [
      "[1 2 3 4]\n",
      "[1 2 3 4 1 2 3 4]\n",
      "[1 2 3 4 1 2 3 4 1 2 3 4]\n"
     ]
    }
   ],
   "source": [
    "x =np.array([1, 2, 3, 4])\n",
    "print(np.tile(x, (1)))\n",
    "print(np.tile(x, (2)))\n",
    "print(np.tile(x, (3)))\n"
   ]
  },
  {
   "cell_type": "markdown",
   "metadata": {},
   "source": [
    "5. Дан массив, в котором имеются значения nan. Получите массив, удалив все значения \n",
    "nan.\n",
    "Исходный массив: [200. 300. nan nan nan 700.]\n",
    "После удаления значений nan: [200. 300. 700.]\n",
    "Исходный массив:\n",
    "[[1. 2. 3.]\n",
    "[nan 0. nan]\n",
    "[6. 7. nan]]\n",
    "После удаления значений nan: [1. 2. 3. 0. 6. 7.]"
   ]
  },
  {
   "cell_type": "code",
   "execution_count": 25,
   "metadata": {},
   "outputs": [
    {
     "name": "stdout",
     "output_type": "stream",
     "text": [
      "[1. 2. 3. 4. 5.]\n",
      "[1. 2. 3. 0. 6. 7.]\n"
     ]
    }
   ],
   "source": [
    "x = np.array([1, 2, 3, np.nan, 4, np.nan, 5])\n",
    "print(x[~np.isnan(x)])\n",
    "x = np.array([[1, 2, 3], [np.nan, 0, np.nan], [6, 7, np.nan]])\n",
    "print(x[~np.isnan(x)])"
   ]
  },
  {
   "cell_type": "markdown",
   "metadata": {},
   "source": [
    "6. Дан массив. Получите массив его k наименьших значений.\n",
    "Оригинальный массив: [1. 7. 8. 2. 0.1 3. 15. 2.5]\n",
    "Его 4 наименьших значения: [0.1 1. 2. 2.5]"
   ]
  },
  {
   "cell_type": "code",
   "execution_count": 29,
   "metadata": {},
   "outputs": [
    {
     "name": "stdout",
     "output_type": "stream",
     "text": [
      "[0.1 1.  2.  2.5]\n"
     ]
    }
   ],
   "source": [
    "x = np.array([1, 7, 8, 2, 0.1, 3, 15, 2.5])\n",
    "print(np.sort(x)[:4])"
   ]
  },
  {
   "cell_type": "markdown",
   "metadata": {},
   "source": [
    "7. Дан массив и некоторое число. Найдите ближайший по значению к числу элемент\n",
    "массива.\n",
    "Исходный массив: [0.5 1.8 2.1 3.5 4.87 5.13 6.49] \n",
    "Значение для сравнения: 3,09066280756759 \n",
    "Ответ: 3.5"
   ]
  },
  {
   "cell_type": "code",
   "execution_count": 30,
   "metadata": {},
   "outputs": [
    {
     "name": "stdout",
     "output_type": "stream",
     "text": [
      "3.5\n"
     ]
    }
   ],
   "source": [
    "x = np.array([0.5, 1.8, 2.1, 3.5, 4.87, 5.13, 6.49])\n",
    "number_to_find = 3.09066280756759 \n",
    "print(x.flat[np.abs(x-number_to_find).argmin()])\n",
    "#Данное решение, я взял из интернета, ниже пояснение решения.\n",
    "#np.falt - одномерный итератор массива, перебирающий элементы массива так будто он вектор, не зависит от размерности матрицы.\n",
    "#np.argmin - возвращает индекс минимального элемента вдоль указанной оси.\n",
    "#То есть, итерируемся по элементам массива, в поисках элемента, чья разница с искомым числом минимальна. Элемент возвращаем по индексу."
   ]
  },
  {
   "cell_type": "markdown",
   "metadata": {},
   "source": [
    "8. Дано два массива со строками. Получите массив при помощи поэлементного \n",
    "объединения.\n",
    "1 массив: ['Python' 'PHP']\n",
    "2 массив: ['Java' 'C ++']\n",
    "Результат: ['Python Java' 'PHP C ++']\n"
   ]
  },
  {
   "cell_type": "code",
   "execution_count": 36,
   "metadata": {},
   "outputs": [
    {
     "name": "stdout",
     "output_type": "stream",
     "text": [
      "['Python Java' 'PHP C++']\n"
     ]
    }
   ],
   "source": [
    "x = np.array(['Python ', 'PHP '])\n",
    "y = np.array(['Java', 'C++'])\n",
    "print(np.char.add(x, y))"
   ]
  },
  {
   "cell_type": "markdown",
   "metadata": {},
   "source": [
    "9. Дан массив строк. Получите массив с частотой встречаемости буквы «P».\n",
    "Оригинальный массив: ['Python' 'PHP' 'JS' ' examples' 'html']\n",
    "Количество 'P': [1 2 0 0 0]\n"
   ]
  },
  {
   "cell_type": "code",
   "execution_count": 40,
   "metadata": {},
   "outputs": [
    {
     "name": "stdout",
     "output_type": "stream",
     "text": [
      "[1 2 0 0 0]\n"
     ]
    }
   ],
   "source": [
    "x = np.array(['Python', 'PHP', 'JS', 'examples', 'html'])\n",
    "print(np.vectorize(lambda a: a.count('P'))(x))"
   ]
  },
  {
   "cell_type": "markdown",
   "metadata": {},
   "source": [
    "10. Найдите корни следующих полиномов: \n",
    "a. x^2 - 4х + 7\n",
    "b. x^4 - 11х^3 + 9х^2 + 11х - 10"
   ]
  },
  {
   "cell_type": "code",
   "execution_count": 42,
   "metadata": {},
   "outputs": [
    {
     "name": "stdout",
     "output_type": "stream",
     "text": [
      "[0.28571429-0.24743583j 0.28571429+0.24743583j]\n",
      "[-1. +0.00000000e+00j  0.1+0.00000000e+00j  1. -1.88793454e-08j\n",
      "  1. +1.88793454e-08j]\n"
     ]
    }
   ],
   "source": [
    "p1 = np.polynomial.Polynomial([1, -4, 7])\n",
    "print(p1.roots())\n",
    "p2 = np.polynomial.Polynomial([1, -11, 9, 11, -10])\n",
    "print(p2.roots())"
   ]
  },
  {
   "cell_type": "markdown",
   "metadata": {},
   "source": [
    "Задание 3:"
   ]
  },
  {
   "cell_type": "markdown",
   "metadata": {},
   "source": [
    "Напишите программу, которая будет решать систему линейных уравнений вида:\n",
    "a11x + a12y = b1\n",
    "a12x + a22y = b2"
   ]
  },
  {
   "cell_type": "code",
   "execution_count": 48,
   "metadata": {},
   "outputs": [
    {
     "name": "stdout",
     "output_type": "stream",
     "text": [
      "Solved:  [-1.  2.]\n"
     ]
    }
   ],
   "source": [
    "a1 = np.array(list(map(int, input('a11 a12: ').split(' '))))\n",
    "b1 = np.array([int(input('b1: '))])\n",
    "a2 = np.array(list(map(float, input('a12 a22: ').split(' '))))\n",
    "b2 = np.array([int(input('b2: '))])\n",
    "\n",
    "a = np.concatenate([a1, a2]).reshape([2, 2])\n",
    "b = np.concatenate([b1, b2])\n",
    "\n",
    "if np.linalg.det(a) != 0:\n",
    "    x = np.linalg.solve(a, b)\n",
    "    if np.allclose(np.dot(a, x), b):\n",
    "        print('Solved: ', x)\n",
    "else:\n",
    "    print('No solutions')"
   ]
  }
 ],
 "metadata": {
  "kernelspec": {
   "display_name": "Python 3.8.10 64-bit",
   "language": "python",
   "name": "python3"
  },
  "language_info": {
   "codemirror_mode": {
    "name": "ipython",
    "version": 3
   },
   "file_extension": ".py",
   "mimetype": "text/x-python",
   "name": "python",
   "nbconvert_exporter": "python",
   "pygments_lexer": "ipython3",
   "version": "3.8.10"
  },
  "orig_nbformat": 4,
  "vscode": {
   "interpreter": {
    "hash": "916dbcbb3f70747c44a77c7bcd40155683ae19c65e1c03b4aa3499c5328201f1"
   }
  }
 },
 "nbformat": 4,
 "nbformat_minor": 2
}
